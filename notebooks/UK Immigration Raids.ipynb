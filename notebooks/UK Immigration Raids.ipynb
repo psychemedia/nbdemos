{
 "cells": [
  {
   "cell_type": "markdown",
   "metadata": {},
   "source": [
    "# UK Immigration Raids: Migrating the Data\n",
    "\n",
    "Notebook / *pandas* example showing how to replicate spreadsheet transformations described in https://spreadsheetjournalism.com/2018/01/16/uk-immigration-raids-migrating-the-data/"
   ]
  },
  {
   "cell_type": "markdown",
   "metadata": {},
   "source": [
    "## Download the file"
   ]
  },
  {
   "cell_type": "code",
   "execution_count": 1,
   "metadata": {},
   "outputs": [],
   "source": [
    "url='https://spreadsheetjournalism.files.wordpress.com/2018/01/foi-42354-annex-a.xlsx'"
   ]
  },
  {
   "cell_type": "code",
   "execution_count": 2,
   "metadata": {},
   "outputs": [],
   "source": [
    "#https://stackoverflow.com/a/34503421/454773\n",
    "import requests\n",
    "\n",
    "def downloadAndSave(url, outfile=None, chunk_size=2000):\n",
    "    r = requests.get(url, stream=True)\n",
    "    outfile = outfile if outfile else url.split('/')[-1]\n",
    "    with open(outfile, 'wb') as fd:\n",
    "        for chunk in r.iter_content(chunk_size):\n",
    "            fd.write(chunk)\n",
    "    #print('File written as: {}'.format(outfile)\n",
    "    return outfile"
   ]
  },
  {
   "cell_type": "code",
   "execution_count": 3,
   "metadata": {},
   "outputs": [
    {
     "data": {
      "text/plain": [
       "'../data/foi-42354-annex-a.xlsx'"
      ]
     },
     "execution_count": 3,
     "metadata": {},
     "output_type": "execute_result"
    }
   ],
   "source": [
    "filename = downloadAndSave(url, '../data/{}'.format(url.split('/')[-1]))\n",
    "\n",
    "#Show the filename\n",
    "filename"
   ]
  },
  {
   "cell_type": "markdown",
   "metadata": {},
   "source": [
    "## Load in the file"
   ]
  },
  {
   "cell_type": "code",
   "execution_count": 4,
   "metadata": {},
   "outputs": [],
   "source": [
    "#pandas is a powerful library for working with tabular datasets\n",
    "import pandas as pd"
   ]
  },
  {
   "cell_type": "code",
   "execution_count": 5,
   "metadata": {},
   "outputs": [
    {
     "data": {
      "text/plain": [
       "odict_keys(['ENCOUNTERED NOT ARRESTED', 'ENCOUNTERED ARRESTED'])"
      ]
     },
     "execution_count": 5,
     "metadata": {},
     "output_type": "execute_result"
    }
   ],
   "source": [
    "sheets=pd.read_excel(filename, sheet_name=None)\n",
    "sheets.keys()"
   ]
  },
  {
   "cell_type": "code",
   "execution_count": 6,
   "metadata": {},
   "outputs": [
    {
     "data": {
      "text/html": [
       "<div>\n",
       "<style scoped>\n",
       "    .dataframe tbody tr th:only-of-type {\n",
       "        vertical-align: middle;\n",
       "    }\n",
       "\n",
       "    .dataframe tbody tr th {\n",
       "        vertical-align: top;\n",
       "    }\n",
       "\n",
       "    .dataframe thead th {\n",
       "        text-align: right;\n",
       "    }\n",
       "</style>\n",
       "<table border=\"1\" class=\"dataframe\">\n",
       "  <thead>\n",
       "    <tr style=\"text-align: right;\">\n",
       "      <th></th>\n",
       "      <th>Unnamed: 0</th>\n",
       "      <th>Unnamed: 1</th>\n",
       "      <th>Encountered but not Arrestred between 03 January 2012 and 02 January 2017</th>\n",
       "      <th>Unnamed: 3</th>\n",
       "      <th>Unnamed: 4</th>\n",
       "      <th>Unnamed: 5</th>\n",
       "      <th>Unnamed: 6</th>\n",
       "      <th>Unnamed: 7</th>\n",
       "      <th>Unnamed: 8</th>\n",
       "      <th>Unnamed: 9</th>\n",
       "      <th>Unnamed: 10</th>\n",
       "      <th>Unnamed: 11</th>\n",
       "      <th>Unnamed: 12</th>\n",
       "    </tr>\n",
       "  </thead>\n",
       "  <tbody>\n",
       "    <tr>\n",
       "      <th>0</th>\n",
       "      <td>NaN</td>\n",
       "      <td>NaN</td>\n",
       "      <td>NaN</td>\n",
       "      <td>NaN</td>\n",
       "      <td>NaN</td>\n",
       "      <td>NaN</td>\n",
       "      <td>NaN</td>\n",
       "      <td>NaN</td>\n",
       "      <td>NaN</td>\n",
       "      <td>NaN</td>\n",
       "      <td>NaN</td>\n",
       "      <td>NaN</td>\n",
       "      <td>NaN</td>\n",
       "    </tr>\n",
       "    <tr>\n",
       "      <th>1</th>\n",
       "      <td>NaN</td>\n",
       "      <td>NaN</td>\n",
       "      <td>NaN</td>\n",
       "      <td>NaN</td>\n",
       "      <td>NaN</td>\n",
       "      <td>NaN</td>\n",
       "      <td>NaN</td>\n",
       "      <td>NaN</td>\n",
       "      <td>NaN</td>\n",
       "      <td>NaN</td>\n",
       "      <td>NaN</td>\n",
       "      <td>NaN</td>\n",
       "      <td>NaN</td>\n",
       "    </tr>\n",
       "    <tr>\n",
       "      <th>2</th>\n",
       "      <td>Nationality</td>\n",
       "      <td>BIRMINGHAM</td>\n",
       "      <td>BRISTOL</td>\n",
       "      <td>CARDIFF</td>\n",
       "      <td>GLASGOW</td>\n",
       "      <td>LEEDS</td>\n",
       "      <td>LIVERPOOL</td>\n",
       "      <td>LONDON</td>\n",
       "      <td>MANCHESTER</td>\n",
       "      <td>NEWCASTLE</td>\n",
       "      <td>NOTTINGHAM</td>\n",
       "      <td>SHEFFIELD</td>\n",
       "      <td>Grand Total</td>\n",
       "    </tr>\n",
       "    <tr>\n",
       "      <th>3</th>\n",
       "      <td>AFGHANISTAN</td>\n",
       "      <td>222</td>\n",
       "      <td>10</td>\n",
       "      <td>31</td>\n",
       "      <td>51</td>\n",
       "      <td>47</td>\n",
       "      <td>42</td>\n",
       "      <td>707</td>\n",
       "      <td>125</td>\n",
       "      <td>56</td>\n",
       "      <td>22</td>\n",
       "      <td>59</td>\n",
       "      <td>1372</td>\n",
       "    </tr>\n",
       "    <tr>\n",
       "      <th>4</th>\n",
       "      <td>ALBANIA</td>\n",
       "      <td>27</td>\n",
       "      <td>10</td>\n",
       "      <td>12</td>\n",
       "      <td>8</td>\n",
       "      <td>13</td>\n",
       "      <td>2</td>\n",
       "      <td>215</td>\n",
       "      <td>9</td>\n",
       "      <td>3</td>\n",
       "      <td>6</td>\n",
       "      <td>11</td>\n",
       "      <td>316</td>\n",
       "    </tr>\n",
       "  </tbody>\n",
       "</table>\n",
       "</div>"
      ],
      "text/plain": [
       "    Unnamed: 0  Unnamed: 1  \\\n",
       "0          NaN         NaN   \n",
       "1          NaN         NaN   \n",
       "2  Nationality  BIRMINGHAM   \n",
       "3  AFGHANISTAN         222   \n",
       "4      ALBANIA          27   \n",
       "\n",
       "  Encountered but not Arrestred between 03 January 2012 and 02 January 2017   \\\n",
       "0                                                NaN                           \n",
       "1                                                NaN                           \n",
       "2                                            BRISTOL                           \n",
       "3                                                 10                           \n",
       "4                                                 10                           \n",
       "\n",
       "  Unnamed: 3 Unnamed: 4 Unnamed: 5 Unnamed: 6 Unnamed: 7  Unnamed: 8  \\\n",
       "0        NaN        NaN        NaN        NaN        NaN         NaN   \n",
       "1        NaN        NaN        NaN        NaN        NaN         NaN   \n",
       "2    CARDIFF    GLASGOW      LEEDS  LIVERPOOL     LONDON  MANCHESTER   \n",
       "3         31         51         47         42        707         125   \n",
       "4         12          8         13          2        215           9   \n",
       "\n",
       "  Unnamed: 9 Unnamed: 10 Unnamed: 11  Unnamed: 12  \n",
       "0        NaN         NaN         NaN          NaN  \n",
       "1        NaN         NaN         NaN          NaN  \n",
       "2  NEWCASTLE  NOTTINGHAM   SHEFFIELD  Grand Total  \n",
       "3         56          22          59         1372  \n",
       "4          3           6          11          316  "
      ]
     },
     "execution_count": 6,
     "metadata": {},
     "output_type": "execute_result"
    }
   ],
   "source": [
    "sheets['ENCOUNTERED NOT ARRESTED'].head()"
   ]
  },
  {
   "cell_type": "markdown",
   "metadata": {},
   "source": [
    "We need to skip at least 3 rows. If there are initial blank lines at the top of the sheet, these will be ignored automatically  - so it may be more..."
   ]
  },
  {
   "cell_type": "markdown",
   "metadata": {},
   "source": [
    "How about the bottom of the table? Are there metadata rows to drop there?"
   ]
  },
  {
   "cell_type": "code",
   "execution_count": 7,
   "metadata": {},
   "outputs": [
    {
     "data": {
      "text/html": [
       "<div>\n",
       "<style scoped>\n",
       "    .dataframe tbody tr th:only-of-type {\n",
       "        vertical-align: middle;\n",
       "    }\n",
       "\n",
       "    .dataframe tbody tr th {\n",
       "        vertical-align: top;\n",
       "    }\n",
       "\n",
       "    .dataframe thead th {\n",
       "        text-align: right;\n",
       "    }\n",
       "</style>\n",
       "<table border=\"1\" class=\"dataframe\">\n",
       "  <thead>\n",
       "    <tr style=\"text-align: right;\">\n",
       "      <th></th>\n",
       "      <th>Unnamed: 0</th>\n",
       "      <th>Unnamed: 1</th>\n",
       "      <th>Encountered but not Arrestred between 03 January 2012 and 02 January 2017</th>\n",
       "      <th>Unnamed: 3</th>\n",
       "      <th>Unnamed: 4</th>\n",
       "      <th>Unnamed: 5</th>\n",
       "      <th>Unnamed: 6</th>\n",
       "      <th>Unnamed: 7</th>\n",
       "      <th>Unnamed: 8</th>\n",
       "      <th>Unnamed: 9</th>\n",
       "      <th>Unnamed: 10</th>\n",
       "      <th>Unnamed: 11</th>\n",
       "      <th>Unnamed: 12</th>\n",
       "    </tr>\n",
       "  </thead>\n",
       "  <tbody>\n",
       "    <tr>\n",
       "      <th>186</th>\n",
       "      <td>ZIMBABWE</td>\n",
       "      <td>8</td>\n",
       "      <td>2</td>\n",
       "      <td>1</td>\n",
       "      <td>10</td>\n",
       "      <td>16</td>\n",
       "      <td>5</td>\n",
       "      <td>56</td>\n",
       "      <td>16</td>\n",
       "      <td>2</td>\n",
       "      <td>5</td>\n",
       "      <td>23</td>\n",
       "      <td>144</td>\n",
       "    </tr>\n",
       "    <tr>\n",
       "      <th>187</th>\n",
       "      <td>NO NATIONALITY</td>\n",
       "      <td>NaN</td>\n",
       "      <td>NaN</td>\n",
       "      <td>NaN</td>\n",
       "      <td>NaN</td>\n",
       "      <td>NaN</td>\n",
       "      <td>NaN</td>\n",
       "      <td>1</td>\n",
       "      <td>NaN</td>\n",
       "      <td>NaN</td>\n",
       "      <td>NaN</td>\n",
       "      <td>NaN</td>\n",
       "      <td>1</td>\n",
       "    </tr>\n",
       "    <tr>\n",
       "      <th>188</th>\n",
       "      <td>Grand Total</td>\n",
       "      <td>5458</td>\n",
       "      <td>663</td>\n",
       "      <td>3193</td>\n",
       "      <td>3737</td>\n",
       "      <td>1935</td>\n",
       "      <td>3050</td>\n",
       "      <td>44291</td>\n",
       "      <td>6854</td>\n",
       "      <td>2601</td>\n",
       "      <td>1024</td>\n",
       "      <td>3799</td>\n",
       "      <td>76605</td>\n",
       "    </tr>\n",
       "    <tr>\n",
       "      <th>189</th>\n",
       "      <td>NaN</td>\n",
       "      <td>NaN</td>\n",
       "      <td>NaN</td>\n",
       "      <td>NaN</td>\n",
       "      <td>NaN</td>\n",
       "      <td>NaN</td>\n",
       "      <td>NaN</td>\n",
       "      <td>NaN</td>\n",
       "      <td>NaN</td>\n",
       "      <td>NaN</td>\n",
       "      <td>NaN</td>\n",
       "      <td>NaN</td>\n",
       "      <td>NaN</td>\n",
       "    </tr>\n",
       "    <tr>\n",
       "      <th>190</th>\n",
       "      <td>NaN</td>\n",
       "      <td>NaN</td>\n",
       "      <td>NaN</td>\n",
       "      <td>NaN</td>\n",
       "      <td>NaN</td>\n",
       "      <td>NaN</td>\n",
       "      <td>NaN</td>\n",
       "      <td>NaN</td>\n",
       "      <td>NaN</td>\n",
       "      <td>NaN</td>\n",
       "      <td>NaN</td>\n",
       "      <td>NaN</td>\n",
       "      <td>NaN</td>\n",
       "    </tr>\n",
       "    <tr>\n",
       "      <th>191</th>\n",
       "      <td>1. These statistics have been taken from a liv...</td>\n",
       "      <td>NaN</td>\n",
       "      <td>NaN</td>\n",
       "      <td>NaN</td>\n",
       "      <td>NaN</td>\n",
       "      <td>NaN</td>\n",
       "      <td>NaN</td>\n",
       "      <td>NaN</td>\n",
       "      <td>NaN</td>\n",
       "      <td>NaN</td>\n",
       "      <td>NaN</td>\n",
       "      <td>NaN</td>\n",
       "      <td>NaN</td>\n",
       "    </tr>\n",
       "    <tr>\n",
       "      <th>192</th>\n",
       "      <td>NaN</td>\n",
       "      <td>NaN</td>\n",
       "      <td>NaN</td>\n",
       "      <td>NaN</td>\n",
       "      <td>NaN</td>\n",
       "      <td>NaN</td>\n",
       "      <td>NaN</td>\n",
       "      <td>NaN</td>\n",
       "      <td>NaN</td>\n",
       "      <td>NaN</td>\n",
       "      <td>NaN</td>\n",
       "      <td>NaN</td>\n",
       "      <td>NaN</td>\n",
       "    </tr>\n",
       "    <tr>\n",
       "      <th>193</th>\n",
       "      <td>2. Data relates to the total number of persons...</td>\n",
       "      <td>NaN</td>\n",
       "      <td>NaN</td>\n",
       "      <td>NaN</td>\n",
       "      <td>NaN</td>\n",
       "      <td>NaN</td>\n",
       "      <td>NaN</td>\n",
       "      <td>NaN</td>\n",
       "      <td>NaN</td>\n",
       "      <td>NaN</td>\n",
       "      <td>NaN</td>\n",
       "      <td>NaN</td>\n",
       "      <td>NaN</td>\n",
       "    </tr>\n",
       "    <tr>\n",
       "      <th>194</th>\n",
       "      <td>NaN</td>\n",
       "      <td>NaN</td>\n",
       "      <td>NaN</td>\n",
       "      <td>NaN</td>\n",
       "      <td>NaN</td>\n",
       "      <td>NaN</td>\n",
       "      <td>NaN</td>\n",
       "      <td>NaN</td>\n",
       "      <td>NaN</td>\n",
       "      <td>NaN</td>\n",
       "      <td>NaN</td>\n",
       "      <td>NaN</td>\n",
       "      <td>NaN</td>\n",
       "    </tr>\n",
       "    <tr>\n",
       "      <th>195</th>\n",
       "      <td>3. People can be encountered and subsequently ...</td>\n",
       "      <td>NaN</td>\n",
       "      <td>NaN</td>\n",
       "      <td>NaN</td>\n",
       "      <td>NaN</td>\n",
       "      <td>NaN</td>\n",
       "      <td>NaN</td>\n",
       "      <td>NaN</td>\n",
       "      <td>NaN</td>\n",
       "      <td>NaN</td>\n",
       "      <td>NaN</td>\n",
       "      <td>NaN</td>\n",
       "      <td>NaN</td>\n",
       "    </tr>\n",
       "    <tr>\n",
       "      <th>196</th>\n",
       "      <td>NaN</td>\n",
       "      <td>NaN</td>\n",
       "      <td>NaN</td>\n",
       "      <td>NaN</td>\n",
       "      <td>NaN</td>\n",
       "      <td>NaN</td>\n",
       "      <td>NaN</td>\n",
       "      <td>NaN</td>\n",
       "      <td>NaN</td>\n",
       "      <td>NaN</td>\n",
       "      <td>NaN</td>\n",
       "      <td>NaN</td>\n",
       "      <td>NaN</td>\n",
       "    </tr>\n",
       "    <tr>\n",
       "      <th>197</th>\n",
       "      <td>4. The data covers the period between 03 Janua...</td>\n",
       "      <td>NaN</td>\n",
       "      <td>NaN</td>\n",
       "      <td>NaN</td>\n",
       "      <td>NaN</td>\n",
       "      <td>NaN</td>\n",
       "      <td>NaN</td>\n",
       "      <td>NaN</td>\n",
       "      <td>NaN</td>\n",
       "      <td>NaN</td>\n",
       "      <td>NaN</td>\n",
       "      <td>NaN</td>\n",
       "      <td>NaN</td>\n",
       "    </tr>\n",
       "  </tbody>\n",
       "</table>\n",
       "</div>"
      ],
      "text/plain": [
       "                                            Unnamed: 0 Unnamed: 1  \\\n",
       "186                                           ZIMBABWE          8   \n",
       "187                                     NO NATIONALITY        NaN   \n",
       "188                                        Grand Total       5458   \n",
       "189                                                NaN        NaN   \n",
       "190                                                NaN        NaN   \n",
       "191  1. These statistics have been taken from a liv...        NaN   \n",
       "192                                                NaN        NaN   \n",
       "193  2. Data relates to the total number of persons...        NaN   \n",
       "194                                                NaN        NaN   \n",
       "195  3. People can be encountered and subsequently ...        NaN   \n",
       "196                                                NaN        NaN   \n",
       "197  4. The data covers the period between 03 Janua...        NaN   \n",
       "\n",
       "    Encountered but not Arrestred between 03 January 2012 and 02 January 2017   \\\n",
       "186                                                  2                           \n",
       "187                                                NaN                           \n",
       "188                                                663                           \n",
       "189                                                NaN                           \n",
       "190                                                NaN                           \n",
       "191                                                NaN                           \n",
       "192                                                NaN                           \n",
       "193                                                NaN                           \n",
       "194                                                NaN                           \n",
       "195                                                NaN                           \n",
       "196                                                NaN                           \n",
       "197                                                NaN                           \n",
       "\n",
       "    Unnamed: 3 Unnamed: 4 Unnamed: 5 Unnamed: 6 Unnamed: 7 Unnamed: 8  \\\n",
       "186          1         10         16          5         56         16   \n",
       "187        NaN        NaN        NaN        NaN          1        NaN   \n",
       "188       3193       3737       1935       3050      44291       6854   \n",
       "189        NaN        NaN        NaN        NaN        NaN        NaN   \n",
       "190        NaN        NaN        NaN        NaN        NaN        NaN   \n",
       "191        NaN        NaN        NaN        NaN        NaN        NaN   \n",
       "192        NaN        NaN        NaN        NaN        NaN        NaN   \n",
       "193        NaN        NaN        NaN        NaN        NaN        NaN   \n",
       "194        NaN        NaN        NaN        NaN        NaN        NaN   \n",
       "195        NaN        NaN        NaN        NaN        NaN        NaN   \n",
       "196        NaN        NaN        NaN        NaN        NaN        NaN   \n",
       "197        NaN        NaN        NaN        NaN        NaN        NaN   \n",
       "\n",
       "    Unnamed: 9 Unnamed: 10 Unnamed: 11 Unnamed: 12  \n",
       "186          2           5          23         144  \n",
       "187        NaN         NaN         NaN           1  \n",
       "188       2601        1024        3799       76605  \n",
       "189        NaN         NaN         NaN         NaN  \n",
       "190        NaN         NaN         NaN         NaN  \n",
       "191        NaN         NaN         NaN         NaN  \n",
       "192        NaN         NaN         NaN         NaN  \n",
       "193        NaN         NaN         NaN         NaN  \n",
       "194        NaN         NaN         NaN         NaN  \n",
       "195        NaN         NaN         NaN         NaN  \n",
       "196        NaN         NaN         NaN         NaN  \n",
       "197        NaN         NaN         NaN         NaN  "
      ]
     },
     "execution_count": 7,
     "metadata": {},
     "output_type": "execute_result"
    }
   ],
   "source": [
    "sheets['ENCOUNTERED NOT ARRESTED'].tail(12)"
   ]
  },
  {
   "cell_type": "markdown",
   "metadata": {},
   "source": [
    "Let's clear out the original spreadsheet, which was loaded into memory, and then we can load in the sheets separately."
   ]
  },
  {
   "cell_type": "code",
   "execution_count": 8,
   "metadata": {},
   "outputs": [],
   "source": [
    "sheets = None"
   ]
  },
  {
   "cell_type": "markdown",
   "metadata": {},
   "source": [
    "Let's load in the data, skipping rows at the top."
   ]
  },
  {
   "cell_type": "code",
   "execution_count": 9,
   "metadata": {},
   "outputs": [
    {
     "data": {
      "text/html": [
       "<div>\n",
       "<style scoped>\n",
       "    .dataframe tbody tr th:only-of-type {\n",
       "        vertical-align: middle;\n",
       "    }\n",
       "\n",
       "    .dataframe tbody tr th {\n",
       "        vertical-align: top;\n",
       "    }\n",
       "\n",
       "    .dataframe thead th {\n",
       "        text-align: right;\n",
       "    }\n",
       "</style>\n",
       "<table border=\"1\" class=\"dataframe\">\n",
       "  <thead>\n",
       "    <tr style=\"text-align: right;\">\n",
       "      <th></th>\n",
       "      <th>Unnamed: 0</th>\n",
       "      <th>Unnamed: 1</th>\n",
       "      <th>Unnamed: 2</th>\n",
       "      <th>Unnamed: 3</th>\n",
       "      <th>Unnamed: 4</th>\n",
       "      <th>Unnamed: 5</th>\n",
       "      <th>Unnamed: 6</th>\n",
       "      <th>Unnamed: 7</th>\n",
       "      <th>Unnamed: 8</th>\n",
       "      <th>Unnamed: 9</th>\n",
       "      <th>Unnamed: 10</th>\n",
       "      <th>Unnamed: 11</th>\n",
       "      <th>Unnamed: 12</th>\n",
       "    </tr>\n",
       "  </thead>\n",
       "  <tbody>\n",
       "    <tr>\n",
       "      <th>0</th>\n",
       "      <td>Nationality</td>\n",
       "      <td>BIRMINGHAM</td>\n",
       "      <td>BRISTOL</td>\n",
       "      <td>CARDIFF</td>\n",
       "      <td>GLASGOW</td>\n",
       "      <td>LEEDS</td>\n",
       "      <td>LIVERPOOL</td>\n",
       "      <td>LONDON</td>\n",
       "      <td>MANCHESTER</td>\n",
       "      <td>NEWCASTLE</td>\n",
       "      <td>NOTTINGHAM</td>\n",
       "      <td>SHEFFIELD</td>\n",
       "      <td>Grand Total</td>\n",
       "    </tr>\n",
       "    <tr>\n",
       "      <th>1</th>\n",
       "      <td>AFGHANISTAN</td>\n",
       "      <td>222</td>\n",
       "      <td>10</td>\n",
       "      <td>31</td>\n",
       "      <td>51</td>\n",
       "      <td>47</td>\n",
       "      <td>42</td>\n",
       "      <td>707</td>\n",
       "      <td>125</td>\n",
       "      <td>56</td>\n",
       "      <td>22</td>\n",
       "      <td>59</td>\n",
       "      <td>1372</td>\n",
       "    </tr>\n",
       "    <tr>\n",
       "      <th>2</th>\n",
       "      <td>ALBANIA</td>\n",
       "      <td>27</td>\n",
       "      <td>10</td>\n",
       "      <td>12</td>\n",
       "      <td>8</td>\n",
       "      <td>13</td>\n",
       "      <td>2</td>\n",
       "      <td>215</td>\n",
       "      <td>9</td>\n",
       "      <td>3</td>\n",
       "      <td>6</td>\n",
       "      <td>11</td>\n",
       "      <td>316</td>\n",
       "    </tr>\n",
       "    <tr>\n",
       "      <th>3</th>\n",
       "      <td>ALGERIA</td>\n",
       "      <td>10</td>\n",
       "      <td>NaN</td>\n",
       "      <td>8</td>\n",
       "      <td>7</td>\n",
       "      <td>7</td>\n",
       "      <td>5</td>\n",
       "      <td>275</td>\n",
       "      <td>9</td>\n",
       "      <td>3</td>\n",
       "      <td>3</td>\n",
       "      <td>4</td>\n",
       "      <td>331</td>\n",
       "    </tr>\n",
       "    <tr>\n",
       "      <th>4</th>\n",
       "      <td>ANGOLA</td>\n",
       "      <td>1</td>\n",
       "      <td>NaN</td>\n",
       "      <td>NaN</td>\n",
       "      <td>NaN</td>\n",
       "      <td>1</td>\n",
       "      <td>NaN</td>\n",
       "      <td>7</td>\n",
       "      <td>1</td>\n",
       "      <td>9</td>\n",
       "      <td>NaN</td>\n",
       "      <td>1</td>\n",
       "      <td>20</td>\n",
       "    </tr>\n",
       "  </tbody>\n",
       "</table>\n",
       "</div>"
      ],
      "text/plain": [
       "    Unnamed: 0  Unnamed: 1 Unnamed: 2 Unnamed: 3 Unnamed: 4 Unnamed: 5  \\\n",
       "0  Nationality  BIRMINGHAM    BRISTOL    CARDIFF    GLASGOW      LEEDS   \n",
       "1  AFGHANISTAN         222         10         31         51         47   \n",
       "2      ALBANIA          27         10         12          8         13   \n",
       "3      ALGERIA          10        NaN          8          7          7   \n",
       "4       ANGOLA           1        NaN        NaN        NaN          1   \n",
       "\n",
       "  Unnamed: 6 Unnamed: 7  Unnamed: 8 Unnamed: 9 Unnamed: 10 Unnamed: 11  \\\n",
       "0  LIVERPOOL     LONDON  MANCHESTER  NEWCASTLE  NOTTINGHAM   SHEFFIELD   \n",
       "1         42        707         125         56          22          59   \n",
       "2          2        215           9          3           6          11   \n",
       "3          5        275           9          3           3           4   \n",
       "4        NaN          7           1          9         NaN           1   \n",
       "\n",
       "   Unnamed: 12  \n",
       "0  Grand Total  \n",
       "1         1372  \n",
       "2          316  \n",
       "3          331  \n",
       "4           20  "
      ]
     },
     "execution_count": 9,
     "metadata": {},
     "output_type": "execute_result"
    }
   ],
   "source": [
    "#pd.read_excel(local_file,sheet_name='Locations',skiprows=0)\n",
    "enc_not_arr =pd.read_excel(filename, \n",
    "                           sheet_name='ENCOUNTERED NOT ARRESTED', \n",
    "                           skiprows=3)\n",
    "enc_not_arr.head()"
   ]
  },
  {
   "cell_type": "markdown",
   "metadata": {},
   "source": [
    "Okay - we need to skip 4 rows."
   ]
  },
  {
   "cell_type": "code",
   "execution_count": 10,
   "metadata": {},
   "outputs": [
    {
     "data": {
      "text/html": [
       "<div>\n",
       "<style scoped>\n",
       "    .dataframe tbody tr th:only-of-type {\n",
       "        vertical-align: middle;\n",
       "    }\n",
       "\n",
       "    .dataframe tbody tr th {\n",
       "        vertical-align: top;\n",
       "    }\n",
       "\n",
       "    .dataframe thead th {\n",
       "        text-align: right;\n",
       "    }\n",
       "</style>\n",
       "<table border=\"1\" class=\"dataframe\">\n",
       "  <thead>\n",
       "    <tr style=\"text-align: right;\">\n",
       "      <th></th>\n",
       "      <th>Nationality</th>\n",
       "      <th>BIRMINGHAM</th>\n",
       "      <th>BRISTOL</th>\n",
       "      <th>CARDIFF</th>\n",
       "      <th>GLASGOW</th>\n",
       "      <th>LEEDS</th>\n",
       "      <th>LIVERPOOL</th>\n",
       "      <th>LONDON</th>\n",
       "      <th>MANCHESTER</th>\n",
       "      <th>NEWCASTLE</th>\n",
       "      <th>NOTTINGHAM</th>\n",
       "      <th>SHEFFIELD</th>\n",
       "      <th>Grand Total</th>\n",
       "    </tr>\n",
       "  </thead>\n",
       "  <tbody>\n",
       "    <tr>\n",
       "      <th>0</th>\n",
       "      <td>AFGHANISTAN</td>\n",
       "      <td>222.0</td>\n",
       "      <td>10.0</td>\n",
       "      <td>31.0</td>\n",
       "      <td>51.0</td>\n",
       "      <td>47.0</td>\n",
       "      <td>42.0</td>\n",
       "      <td>707.0</td>\n",
       "      <td>125.0</td>\n",
       "      <td>56.0</td>\n",
       "      <td>22.0</td>\n",
       "      <td>59.0</td>\n",
       "      <td>1372.0</td>\n",
       "    </tr>\n",
       "    <tr>\n",
       "      <th>1</th>\n",
       "      <td>ALBANIA</td>\n",
       "      <td>27.0</td>\n",
       "      <td>10.0</td>\n",
       "      <td>12.0</td>\n",
       "      <td>8.0</td>\n",
       "      <td>13.0</td>\n",
       "      <td>2.0</td>\n",
       "      <td>215.0</td>\n",
       "      <td>9.0</td>\n",
       "      <td>3.0</td>\n",
       "      <td>6.0</td>\n",
       "      <td>11.0</td>\n",
       "      <td>316.0</td>\n",
       "    </tr>\n",
       "    <tr>\n",
       "      <th>2</th>\n",
       "      <td>ALGERIA</td>\n",
       "      <td>10.0</td>\n",
       "      <td>NaN</td>\n",
       "      <td>8.0</td>\n",
       "      <td>7.0</td>\n",
       "      <td>7.0</td>\n",
       "      <td>5.0</td>\n",
       "      <td>275.0</td>\n",
       "      <td>9.0</td>\n",
       "      <td>3.0</td>\n",
       "      <td>3.0</td>\n",
       "      <td>4.0</td>\n",
       "      <td>331.0</td>\n",
       "    </tr>\n",
       "    <tr>\n",
       "      <th>3</th>\n",
       "      <td>ANGOLA</td>\n",
       "      <td>1.0</td>\n",
       "      <td>NaN</td>\n",
       "      <td>NaN</td>\n",
       "      <td>NaN</td>\n",
       "      <td>1.0</td>\n",
       "      <td>NaN</td>\n",
       "      <td>7.0</td>\n",
       "      <td>1.0</td>\n",
       "      <td>9.0</td>\n",
       "      <td>NaN</td>\n",
       "      <td>1.0</td>\n",
       "      <td>20.0</td>\n",
       "    </tr>\n",
       "    <tr>\n",
       "      <th>4</th>\n",
       "      <td>ARGENTINA</td>\n",
       "      <td>NaN</td>\n",
       "      <td>NaN</td>\n",
       "      <td>NaN</td>\n",
       "      <td>NaN</td>\n",
       "      <td>NaN</td>\n",
       "      <td>NaN</td>\n",
       "      <td>19.0</td>\n",
       "      <td>NaN</td>\n",
       "      <td>NaN</td>\n",
       "      <td>NaN</td>\n",
       "      <td>NaN</td>\n",
       "      <td>19.0</td>\n",
       "    </tr>\n",
       "  </tbody>\n",
       "</table>\n",
       "</div>"
      ],
      "text/plain": [
       "   Nationality  BIRMINGHAM  BRISTOL  CARDIFF  GLASGOW  LEEDS  LIVERPOOL  \\\n",
       "0  AFGHANISTAN       222.0     10.0     31.0     51.0   47.0       42.0   \n",
       "1      ALBANIA        27.0     10.0     12.0      8.0   13.0        2.0   \n",
       "2      ALGERIA        10.0      NaN      8.0      7.0    7.0        5.0   \n",
       "3       ANGOLA         1.0      NaN      NaN      NaN    1.0        NaN   \n",
       "4    ARGENTINA         NaN      NaN      NaN      NaN    NaN        NaN   \n",
       "\n",
       "   LONDON  MANCHESTER  NEWCASTLE  NOTTINGHAM  SHEFFIELD  Grand Total  \n",
       "0   707.0       125.0       56.0        22.0       59.0       1372.0  \n",
       "1   215.0         9.0        3.0         6.0       11.0        316.0  \n",
       "2   275.0         9.0        3.0         3.0        4.0        331.0  \n",
       "3     7.0         1.0        9.0         NaN        1.0         20.0  \n",
       "4    19.0         NaN        NaN         NaN        NaN         19.0  "
      ]
     },
     "execution_count": 10,
     "metadata": {},
     "output_type": "execute_result"
    }
   ],
   "source": [
    "enc_not_arr =pd.read_excel(filename, \n",
    "                           sheet_name='ENCOUNTERED NOT ARRESTED', \n",
    "                           skiprows=4)\n",
    "enc_not_arr.head()"
   ]
  },
  {
   "cell_type": "markdown",
   "metadata": {},
   "source": [
    "How about the bottom of the table? There is a `skip_footer` argument we can use, but the number of metadata rows may be uncertain.\n",
    "\n",
    "It is more robust to find the index of the last row of the table and then drop rows following that."
   ]
  },
  {
   "cell_type": "code",
   "execution_count": 11,
   "metadata": {},
   "outputs": [
    {
     "data": {
      "text/html": [
       "<div>\n",
       "<style scoped>\n",
       "    .dataframe tbody tr th:only-of-type {\n",
       "        vertical-align: middle;\n",
       "    }\n",
       "\n",
       "    .dataframe tbody tr th {\n",
       "        vertical-align: top;\n",
       "    }\n",
       "\n",
       "    .dataframe thead th {\n",
       "        text-align: right;\n",
       "    }\n",
       "</style>\n",
       "<table border=\"1\" class=\"dataframe\">\n",
       "  <thead>\n",
       "    <tr style=\"text-align: right;\">\n",
       "      <th></th>\n",
       "      <th>Nationality</th>\n",
       "      <th>BIRMINGHAM</th>\n",
       "      <th>BRISTOL</th>\n",
       "      <th>CARDIFF</th>\n",
       "      <th>GLASGOW</th>\n",
       "      <th>LEEDS</th>\n",
       "      <th>LIVERPOOL</th>\n",
       "      <th>LONDON</th>\n",
       "      <th>MANCHESTER</th>\n",
       "      <th>NEWCASTLE</th>\n",
       "      <th>NOTTINGHAM</th>\n",
       "      <th>SHEFFIELD</th>\n",
       "      <th>Grand Total</th>\n",
       "    </tr>\n",
       "  </thead>\n",
       "  <tbody>\n",
       "    <tr>\n",
       "      <th>185</th>\n",
       "      <td>Grand Total</td>\n",
       "      <td>5458.0</td>\n",
       "      <td>663.0</td>\n",
       "      <td>3193.0</td>\n",
       "      <td>3737.0</td>\n",
       "      <td>1935.0</td>\n",
       "      <td>3050.0</td>\n",
       "      <td>44291.0</td>\n",
       "      <td>6854.0</td>\n",
       "      <td>2601.0</td>\n",
       "      <td>1024.0</td>\n",
       "      <td>3799.0</td>\n",
       "      <td>76605.0</td>\n",
       "    </tr>\n",
       "  </tbody>\n",
       "</table>\n",
       "</div>"
      ],
      "text/plain": [
       "     Nationality  BIRMINGHAM  BRISTOL  CARDIFF  GLASGOW   LEEDS  LIVERPOOL  \\\n",
       "185  Grand Total      5458.0    663.0   3193.0   3737.0  1935.0     3050.0   \n",
       "\n",
       "      LONDON  MANCHESTER  NEWCASTLE  NOTTINGHAM  SHEFFIELD  Grand Total  \n",
       "185  44291.0      6854.0     2601.0      1024.0     3799.0      76605.0  "
      ]
     },
     "execution_count": 11,
     "metadata": {},
     "output_type": "execute_result"
    }
   ],
   "source": [
    "# View 'Grand Total' row\n",
    "enc_not_arr[enc_not_arr['Nationality']=='Grand Total']"
   ]
  },
  {
   "cell_type": "code",
   "execution_count": 12,
   "metadata": {},
   "outputs": [
    {
     "data": {
      "text/plain": [
       "185"
      ]
     },
     "execution_count": 12,
     "metadata": {},
     "output_type": "execute_result"
    }
   ],
   "source": [
    "# Get index of 'Grand Total' row\n",
    "index = enc_not_arr[enc_not_arr['Nationality']=='Grand Total'].index[0]\n",
    "index"
   ]
  },
  {
   "cell_type": "code",
   "execution_count": 13,
   "metadata": {},
   "outputs": [
    {
     "data": {
      "text/html": [
       "<div>\n",
       "<style scoped>\n",
       "    .dataframe tbody tr th:only-of-type {\n",
       "        vertical-align: middle;\n",
       "    }\n",
       "\n",
       "    .dataframe tbody tr th {\n",
       "        vertical-align: top;\n",
       "    }\n",
       "\n",
       "    .dataframe thead th {\n",
       "        text-align: right;\n",
       "    }\n",
       "</style>\n",
       "<table border=\"1\" class=\"dataframe\">\n",
       "  <thead>\n",
       "    <tr style=\"text-align: right;\">\n",
       "      <th></th>\n",
       "      <th>Nationality</th>\n",
       "      <th>BIRMINGHAM</th>\n",
       "      <th>BRISTOL</th>\n",
       "      <th>CARDIFF</th>\n",
       "      <th>GLASGOW</th>\n",
       "      <th>LEEDS</th>\n",
       "      <th>LIVERPOOL</th>\n",
       "      <th>LONDON</th>\n",
       "      <th>MANCHESTER</th>\n",
       "      <th>NEWCASTLE</th>\n",
       "      <th>NOTTINGHAM</th>\n",
       "      <th>SHEFFIELD</th>\n",
       "      <th>Grand Total</th>\n",
       "    </tr>\n",
       "  </thead>\n",
       "  <tbody>\n",
       "    <tr>\n",
       "      <th>180</th>\n",
       "      <td>WESTERN SAHARA</td>\n",
       "      <td>NaN</td>\n",
       "      <td>NaN</td>\n",
       "      <td>NaN</td>\n",
       "      <td>NaN</td>\n",
       "      <td>NaN</td>\n",
       "      <td>NaN</td>\n",
       "      <td>1.0</td>\n",
       "      <td>NaN</td>\n",
       "      <td>NaN</td>\n",
       "      <td>NaN</td>\n",
       "      <td>NaN</td>\n",
       "      <td>1.0</td>\n",
       "    </tr>\n",
       "    <tr>\n",
       "      <th>181</th>\n",
       "      <td>YEMEN</td>\n",
       "      <td>4.0</td>\n",
       "      <td>NaN</td>\n",
       "      <td>6.0</td>\n",
       "      <td>1.0</td>\n",
       "      <td>NaN</td>\n",
       "      <td>22.0</td>\n",
       "      <td>7.0</td>\n",
       "      <td>9.0</td>\n",
       "      <td>NaN</td>\n",
       "      <td>NaN</td>\n",
       "      <td>10.0</td>\n",
       "      <td>59.0</td>\n",
       "    </tr>\n",
       "    <tr>\n",
       "      <th>182</th>\n",
       "      <td>ZAMBIA</td>\n",
       "      <td>1.0</td>\n",
       "      <td>NaN</td>\n",
       "      <td>3.0</td>\n",
       "      <td>1.0</td>\n",
       "      <td>1.0</td>\n",
       "      <td>1.0</td>\n",
       "      <td>15.0</td>\n",
       "      <td>4.0</td>\n",
       "      <td>NaN</td>\n",
       "      <td>1.0</td>\n",
       "      <td>3.0</td>\n",
       "      <td>30.0</td>\n",
       "    </tr>\n",
       "    <tr>\n",
       "      <th>183</th>\n",
       "      <td>ZIMBABWE</td>\n",
       "      <td>8.0</td>\n",
       "      <td>2.0</td>\n",
       "      <td>1.0</td>\n",
       "      <td>10.0</td>\n",
       "      <td>16.0</td>\n",
       "      <td>5.0</td>\n",
       "      <td>56.0</td>\n",
       "      <td>16.0</td>\n",
       "      <td>2.0</td>\n",
       "      <td>5.0</td>\n",
       "      <td>23.0</td>\n",
       "      <td>144.0</td>\n",
       "    </tr>\n",
       "    <tr>\n",
       "      <th>184</th>\n",
       "      <td>NO NATIONALITY</td>\n",
       "      <td>NaN</td>\n",
       "      <td>NaN</td>\n",
       "      <td>NaN</td>\n",
       "      <td>NaN</td>\n",
       "      <td>NaN</td>\n",
       "      <td>NaN</td>\n",
       "      <td>1.0</td>\n",
       "      <td>NaN</td>\n",
       "      <td>NaN</td>\n",
       "      <td>NaN</td>\n",
       "      <td>NaN</td>\n",
       "      <td>1.0</td>\n",
       "    </tr>\n",
       "  </tbody>\n",
       "</table>\n",
       "</div>"
      ],
      "text/plain": [
       "        Nationality  BIRMINGHAM  BRISTOL  CARDIFF  GLASGOW  LEEDS  LIVERPOOL  \\\n",
       "180  WESTERN SAHARA         NaN      NaN      NaN      NaN    NaN        NaN   \n",
       "181           YEMEN         4.0      NaN      6.0      1.0    NaN       22.0   \n",
       "182          ZAMBIA         1.0      NaN      3.0      1.0    1.0        1.0   \n",
       "183        ZIMBABWE         8.0      2.0      1.0     10.0   16.0        5.0   \n",
       "184  NO NATIONALITY         NaN      NaN      NaN      NaN    NaN        NaN   \n",
       "\n",
       "     LONDON  MANCHESTER  NEWCASTLE  NOTTINGHAM  SHEFFIELD  Grand Total  \n",
       "180     1.0         NaN        NaN         NaN        NaN          1.0  \n",
       "181     7.0         9.0        NaN         NaN       10.0         59.0  \n",
       "182    15.0         4.0        NaN         1.0        3.0         30.0  \n",
       "183    56.0        16.0        2.0         5.0       23.0        144.0  \n",
       "184     1.0         NaN        NaN         NaN        NaN          1.0  "
      ]
     },
     "execution_count": 13,
     "metadata": {},
     "output_type": "execute_result"
    }
   ],
   "source": [
    "#Include rows above the Grand Total row \n",
    "enc_not_arr = enc_not_arr[enc_not_arr.index < index]\n",
    "\n",
    "enc_not_arr.tail()"
   ]
  },
  {
   "cell_type": "markdown",
   "metadata": {},
   "source": [
    "Let's also exclude the *Grand Total* column."
   ]
  },
  {
   "cell_type": "code",
   "execution_count": 14,
   "metadata": {},
   "outputs": [],
   "source": [
    "enc_not_arr.drop(['Grand Total'], axis=1, inplace = True)"
   ]
  },
  {
   "cell_type": "markdown",
   "metadata": {},
   "source": [
    "Let's guess the other sheet is the same..."
   ]
  },
  {
   "cell_type": "code",
   "execution_count": 15,
   "metadata": {},
   "outputs": [
    {
     "data": {
      "text/html": [
       "<div>\n",
       "<style scoped>\n",
       "    .dataframe tbody tr th:only-of-type {\n",
       "        vertical-align: middle;\n",
       "    }\n",
       "\n",
       "    .dataframe tbody tr th {\n",
       "        vertical-align: top;\n",
       "    }\n",
       "\n",
       "    .dataframe thead th {\n",
       "        text-align: right;\n",
       "    }\n",
       "</style>\n",
       "<table border=\"1\" class=\"dataframe\">\n",
       "  <thead>\n",
       "    <tr style=\"text-align: right;\">\n",
       "      <th></th>\n",
       "      <th>Nationality</th>\n",
       "      <th>BIRMINGHAM</th>\n",
       "      <th>BRISTOL</th>\n",
       "      <th>CARDIF</th>\n",
       "      <th>GLASGOW</th>\n",
       "      <th>LEEDS</th>\n",
       "      <th>LIVERPOOL</th>\n",
       "      <th>LONDON</th>\n",
       "      <th>MANCHESTER</th>\n",
       "      <th>NEWCASTLE</th>\n",
       "      <th>NOTTINGHAM</th>\n",
       "      <th>SHEFIELD</th>\n",
       "      <th>Grand Total</th>\n",
       "    </tr>\n",
       "  </thead>\n",
       "  <tbody>\n",
       "    <tr>\n",
       "      <th>0</th>\n",
       "      <td>AFGHANISTAN</td>\n",
       "      <td>189.0</td>\n",
       "      <td>20.0</td>\n",
       "      <td>42.0</td>\n",
       "      <td>21.0</td>\n",
       "      <td>36.0</td>\n",
       "      <td>22.0</td>\n",
       "      <td>433.0</td>\n",
       "      <td>58.0</td>\n",
       "      <td>24.0</td>\n",
       "      <td>4.0</td>\n",
       "      <td>38.0</td>\n",
       "      <td>887.0</td>\n",
       "    </tr>\n",
       "    <tr>\n",
       "      <th>1</th>\n",
       "      <td>ALBANIA</td>\n",
       "      <td>40.0</td>\n",
       "      <td>38.0</td>\n",
       "      <td>58.0</td>\n",
       "      <td>21.0</td>\n",
       "      <td>7.0</td>\n",
       "      <td>36.0</td>\n",
       "      <td>375.0</td>\n",
       "      <td>28.0</td>\n",
       "      <td>19.0</td>\n",
       "      <td>8.0</td>\n",
       "      <td>25.0</td>\n",
       "      <td>655.0</td>\n",
       "    </tr>\n",
       "    <tr>\n",
       "      <th>2</th>\n",
       "      <td>ALGERIA</td>\n",
       "      <td>7.0</td>\n",
       "      <td>2.0</td>\n",
       "      <td>11.0</td>\n",
       "      <td>6.0</td>\n",
       "      <td>13.0</td>\n",
       "      <td>30.0</td>\n",
       "      <td>286.0</td>\n",
       "      <td>6.0</td>\n",
       "      <td>4.0</td>\n",
       "      <td>2.0</td>\n",
       "      <td>6.0</td>\n",
       "      <td>373.0</td>\n",
       "    </tr>\n",
       "    <tr>\n",
       "      <th>3</th>\n",
       "      <td>ANGOLA</td>\n",
       "      <td>NaN</td>\n",
       "      <td>NaN</td>\n",
       "      <td>NaN</td>\n",
       "      <td>NaN</td>\n",
       "      <td>2.0</td>\n",
       "      <td>NaN</td>\n",
       "      <td>8.0</td>\n",
       "      <td>3.0</td>\n",
       "      <td>3.0</td>\n",
       "      <td>NaN</td>\n",
       "      <td>1.0</td>\n",
       "      <td>17.0</td>\n",
       "    </tr>\n",
       "    <tr>\n",
       "      <th>4</th>\n",
       "      <td>ANTIGUA AND BARBUDA</td>\n",
       "      <td>NaN</td>\n",
       "      <td>NaN</td>\n",
       "      <td>NaN</td>\n",
       "      <td>NaN</td>\n",
       "      <td>NaN</td>\n",
       "      <td>NaN</td>\n",
       "      <td>1.0</td>\n",
       "      <td>NaN</td>\n",
       "      <td>NaN</td>\n",
       "      <td>NaN</td>\n",
       "      <td>NaN</td>\n",
       "      <td>1.0</td>\n",
       "    </tr>\n",
       "  </tbody>\n",
       "</table>\n",
       "</div>"
      ],
      "text/plain": [
       "          Nationality   BIRMINGHAM  BRISTOL  CARDIF  GLASGOW  LEEDS  \\\n",
       "0          AFGHANISTAN       189.0     20.0    42.0     21.0   36.0   \n",
       "1              ALBANIA        40.0     38.0    58.0     21.0    7.0   \n",
       "2              ALGERIA         7.0      2.0    11.0      6.0   13.0   \n",
       "3               ANGOLA         NaN      NaN     NaN      NaN    2.0   \n",
       "4  ANTIGUA AND BARBUDA         NaN      NaN     NaN      NaN    NaN   \n",
       "\n",
       "   LIVERPOOL  LONDON  MANCHESTER  NEWCASTLE  NOTTINGHAM  SHEFIELD  Grand Total  \n",
       "0       22.0   433.0        58.0       24.0         4.0      38.0        887.0  \n",
       "1       36.0   375.0        28.0       19.0         8.0      25.0        655.0  \n",
       "2       30.0   286.0         6.0        4.0         2.0       6.0        373.0  \n",
       "3        NaN     8.0         3.0        3.0         NaN       1.0         17.0  \n",
       "4        NaN     1.0         NaN        NaN         NaN       NaN          1.0  "
      ]
     },
     "execution_count": 15,
     "metadata": {},
     "output_type": "execute_result"
    }
   ],
   "source": [
    "enc_arr = pd.read_excel(filename, \n",
    "                           sheet_name='ENCOUNTERED ARRESTED', \n",
    "                           skiprows=4)\n",
    "\n",
    "enc_arr.head()"
   ]
  },
  {
   "cell_type": "code",
   "execution_count": 16,
   "metadata": {},
   "outputs": [
    {
     "ename": "KeyError",
     "evalue": "'Nationality'",
     "output_type": "error",
     "traceback": [
      "\u001b[0;31m---------------------------------------------------------------------------\u001b[0m",
      "\u001b[0;31mKeyError\u001b[0m                                  Traceback (most recent call last)",
      "\u001b[0;32m/Library/Frameworks/Python.framework/Versions/3.6/lib/python3.6/site-packages/pandas/core/indexes/base.py\u001b[0m in \u001b[0;36mget_loc\u001b[0;34m(self, key, method, tolerance)\u001b[0m\n\u001b[1;32m   2524\u001b[0m             \u001b[0;32mtry\u001b[0m\u001b[0;34m:\u001b[0m\u001b[0;34m\u001b[0m\u001b[0m\n\u001b[0;32m-> 2525\u001b[0;31m                 \u001b[0;32mreturn\u001b[0m \u001b[0mself\u001b[0m\u001b[0;34m.\u001b[0m\u001b[0m_engine\u001b[0m\u001b[0;34m.\u001b[0m\u001b[0mget_loc\u001b[0m\u001b[0;34m(\u001b[0m\u001b[0mkey\u001b[0m\u001b[0;34m)\u001b[0m\u001b[0;34m\u001b[0m\u001b[0m\n\u001b[0m\u001b[1;32m   2526\u001b[0m             \u001b[0;32mexcept\u001b[0m \u001b[0mKeyError\u001b[0m\u001b[0;34m:\u001b[0m\u001b[0;34m\u001b[0m\u001b[0m\n",
      "\u001b[0;32mpandas/_libs/index.pyx\u001b[0m in \u001b[0;36mpandas._libs.index.IndexEngine.get_loc\u001b[0;34m()\u001b[0m\n",
      "\u001b[0;32mpandas/_libs/index.pyx\u001b[0m in \u001b[0;36mpandas._libs.index.IndexEngine.get_loc\u001b[0;34m()\u001b[0m\n",
      "\u001b[0;32mpandas/_libs/hashtable_class_helper.pxi\u001b[0m in \u001b[0;36mpandas._libs.hashtable.PyObjectHashTable.get_item\u001b[0;34m()\u001b[0m\n",
      "\u001b[0;32mpandas/_libs/hashtable_class_helper.pxi\u001b[0m in \u001b[0;36mpandas._libs.hashtable.PyObjectHashTable.get_item\u001b[0;34m()\u001b[0m\n",
      "\u001b[0;31mKeyError\u001b[0m: 'Nationality'",
      "\nDuring handling of the above exception, another exception occurred:\n",
      "\u001b[0;31mKeyError\u001b[0m                                  Traceback (most recent call last)",
      "\u001b[0;32m<ipython-input-16-767469b60c61>\u001b[0m in \u001b[0;36m<module>\u001b[0;34m()\u001b[0m\n\u001b[0;32m----> 1\u001b[0;31m \u001b[0mindex\u001b[0m \u001b[0;34m=\u001b[0m \u001b[0menc_arr\u001b[0m\u001b[0;34m[\u001b[0m\u001b[0menc_arr\u001b[0m\u001b[0;34m[\u001b[0m\u001b[0;34m'Nationality'\u001b[0m\u001b[0;34m]\u001b[0m\u001b[0;34m==\u001b[0m\u001b[0;34m'Grand Total'\u001b[0m\u001b[0;34m]\u001b[0m\u001b[0;34m.\u001b[0m\u001b[0mindex\u001b[0m\u001b[0;34m[\u001b[0m\u001b[0;36m0\u001b[0m\u001b[0;34m]\u001b[0m\u001b[0;34m\u001b[0m\u001b[0m\n\u001b[0m\u001b[1;32m      2\u001b[0m \u001b[0mindex\u001b[0m\u001b[0;34m\u001b[0m\u001b[0m\n",
      "\u001b[0;32m/Library/Frameworks/Python.framework/Versions/3.6/lib/python3.6/site-packages/pandas/core/frame.py\u001b[0m in \u001b[0;36m__getitem__\u001b[0;34m(self, key)\u001b[0m\n\u001b[1;32m   2137\u001b[0m             \u001b[0;32mreturn\u001b[0m \u001b[0mself\u001b[0m\u001b[0;34m.\u001b[0m\u001b[0m_getitem_multilevel\u001b[0m\u001b[0;34m(\u001b[0m\u001b[0mkey\u001b[0m\u001b[0;34m)\u001b[0m\u001b[0;34m\u001b[0m\u001b[0m\n\u001b[1;32m   2138\u001b[0m         \u001b[0;32melse\u001b[0m\u001b[0;34m:\u001b[0m\u001b[0;34m\u001b[0m\u001b[0m\n\u001b[0;32m-> 2139\u001b[0;31m             \u001b[0;32mreturn\u001b[0m \u001b[0mself\u001b[0m\u001b[0;34m.\u001b[0m\u001b[0m_getitem_column\u001b[0m\u001b[0;34m(\u001b[0m\u001b[0mkey\u001b[0m\u001b[0;34m)\u001b[0m\u001b[0;34m\u001b[0m\u001b[0m\n\u001b[0m\u001b[1;32m   2140\u001b[0m \u001b[0;34m\u001b[0m\u001b[0m\n\u001b[1;32m   2141\u001b[0m     \u001b[0;32mdef\u001b[0m \u001b[0m_getitem_column\u001b[0m\u001b[0;34m(\u001b[0m\u001b[0mself\u001b[0m\u001b[0;34m,\u001b[0m \u001b[0mkey\u001b[0m\u001b[0;34m)\u001b[0m\u001b[0;34m:\u001b[0m\u001b[0;34m\u001b[0m\u001b[0m\n",
      "\u001b[0;32m/Library/Frameworks/Python.framework/Versions/3.6/lib/python3.6/site-packages/pandas/core/frame.py\u001b[0m in \u001b[0;36m_getitem_column\u001b[0;34m(self, key)\u001b[0m\n\u001b[1;32m   2144\u001b[0m         \u001b[0;31m# get column\u001b[0m\u001b[0;34m\u001b[0m\u001b[0;34m\u001b[0m\u001b[0m\n\u001b[1;32m   2145\u001b[0m         \u001b[0;32mif\u001b[0m \u001b[0mself\u001b[0m\u001b[0;34m.\u001b[0m\u001b[0mcolumns\u001b[0m\u001b[0;34m.\u001b[0m\u001b[0mis_unique\u001b[0m\u001b[0;34m:\u001b[0m\u001b[0;34m\u001b[0m\u001b[0m\n\u001b[0;32m-> 2146\u001b[0;31m             \u001b[0;32mreturn\u001b[0m \u001b[0mself\u001b[0m\u001b[0;34m.\u001b[0m\u001b[0m_get_item_cache\u001b[0m\u001b[0;34m(\u001b[0m\u001b[0mkey\u001b[0m\u001b[0;34m)\u001b[0m\u001b[0;34m\u001b[0m\u001b[0m\n\u001b[0m\u001b[1;32m   2147\u001b[0m \u001b[0;34m\u001b[0m\u001b[0m\n\u001b[1;32m   2148\u001b[0m         \u001b[0;31m# duplicate columns & possible reduce dimensionality\u001b[0m\u001b[0;34m\u001b[0m\u001b[0;34m\u001b[0m\u001b[0m\n",
      "\u001b[0;32m/Library/Frameworks/Python.framework/Versions/3.6/lib/python3.6/site-packages/pandas/core/generic.py\u001b[0m in \u001b[0;36m_get_item_cache\u001b[0;34m(self, item)\u001b[0m\n\u001b[1;32m   1840\u001b[0m         \u001b[0mres\u001b[0m \u001b[0;34m=\u001b[0m \u001b[0mcache\u001b[0m\u001b[0;34m.\u001b[0m\u001b[0mget\u001b[0m\u001b[0;34m(\u001b[0m\u001b[0mitem\u001b[0m\u001b[0;34m)\u001b[0m\u001b[0;34m\u001b[0m\u001b[0m\n\u001b[1;32m   1841\u001b[0m         \u001b[0;32mif\u001b[0m \u001b[0mres\u001b[0m \u001b[0;32mis\u001b[0m \u001b[0;32mNone\u001b[0m\u001b[0;34m:\u001b[0m\u001b[0;34m\u001b[0m\u001b[0m\n\u001b[0;32m-> 1842\u001b[0;31m             \u001b[0mvalues\u001b[0m \u001b[0;34m=\u001b[0m \u001b[0mself\u001b[0m\u001b[0;34m.\u001b[0m\u001b[0m_data\u001b[0m\u001b[0;34m.\u001b[0m\u001b[0mget\u001b[0m\u001b[0;34m(\u001b[0m\u001b[0mitem\u001b[0m\u001b[0;34m)\u001b[0m\u001b[0;34m\u001b[0m\u001b[0m\n\u001b[0m\u001b[1;32m   1843\u001b[0m             \u001b[0mres\u001b[0m \u001b[0;34m=\u001b[0m \u001b[0mself\u001b[0m\u001b[0;34m.\u001b[0m\u001b[0m_box_item_values\u001b[0m\u001b[0;34m(\u001b[0m\u001b[0mitem\u001b[0m\u001b[0;34m,\u001b[0m \u001b[0mvalues\u001b[0m\u001b[0;34m)\u001b[0m\u001b[0;34m\u001b[0m\u001b[0m\n\u001b[1;32m   1844\u001b[0m             \u001b[0mcache\u001b[0m\u001b[0;34m[\u001b[0m\u001b[0mitem\u001b[0m\u001b[0;34m]\u001b[0m \u001b[0;34m=\u001b[0m \u001b[0mres\u001b[0m\u001b[0;34m\u001b[0m\u001b[0m\n",
      "\u001b[0;32m/Library/Frameworks/Python.framework/Versions/3.6/lib/python3.6/site-packages/pandas/core/internals.py\u001b[0m in \u001b[0;36mget\u001b[0;34m(self, item, fastpath)\u001b[0m\n\u001b[1;32m   3841\u001b[0m \u001b[0;34m\u001b[0m\u001b[0m\n\u001b[1;32m   3842\u001b[0m             \u001b[0;32mif\u001b[0m \u001b[0;32mnot\u001b[0m \u001b[0misna\u001b[0m\u001b[0;34m(\u001b[0m\u001b[0mitem\u001b[0m\u001b[0;34m)\u001b[0m\u001b[0;34m:\u001b[0m\u001b[0;34m\u001b[0m\u001b[0m\n\u001b[0;32m-> 3843\u001b[0;31m                 \u001b[0mloc\u001b[0m \u001b[0;34m=\u001b[0m \u001b[0mself\u001b[0m\u001b[0;34m.\u001b[0m\u001b[0mitems\u001b[0m\u001b[0;34m.\u001b[0m\u001b[0mget_loc\u001b[0m\u001b[0;34m(\u001b[0m\u001b[0mitem\u001b[0m\u001b[0;34m)\u001b[0m\u001b[0;34m\u001b[0m\u001b[0m\n\u001b[0m\u001b[1;32m   3844\u001b[0m             \u001b[0;32melse\u001b[0m\u001b[0;34m:\u001b[0m\u001b[0;34m\u001b[0m\u001b[0m\n\u001b[1;32m   3845\u001b[0m                 \u001b[0mindexer\u001b[0m \u001b[0;34m=\u001b[0m \u001b[0mnp\u001b[0m\u001b[0;34m.\u001b[0m\u001b[0marange\u001b[0m\u001b[0;34m(\u001b[0m\u001b[0mlen\u001b[0m\u001b[0;34m(\u001b[0m\u001b[0mself\u001b[0m\u001b[0;34m.\u001b[0m\u001b[0mitems\u001b[0m\u001b[0;34m)\u001b[0m\u001b[0;34m)\u001b[0m\u001b[0;34m[\u001b[0m\u001b[0misna\u001b[0m\u001b[0;34m(\u001b[0m\u001b[0mself\u001b[0m\u001b[0;34m.\u001b[0m\u001b[0mitems\u001b[0m\u001b[0;34m)\u001b[0m\u001b[0;34m]\u001b[0m\u001b[0;34m\u001b[0m\u001b[0m\n",
      "\u001b[0;32m/Library/Frameworks/Python.framework/Versions/3.6/lib/python3.6/site-packages/pandas/core/indexes/base.py\u001b[0m in \u001b[0;36mget_loc\u001b[0;34m(self, key, method, tolerance)\u001b[0m\n\u001b[1;32m   2525\u001b[0m                 \u001b[0;32mreturn\u001b[0m \u001b[0mself\u001b[0m\u001b[0;34m.\u001b[0m\u001b[0m_engine\u001b[0m\u001b[0;34m.\u001b[0m\u001b[0mget_loc\u001b[0m\u001b[0;34m(\u001b[0m\u001b[0mkey\u001b[0m\u001b[0;34m)\u001b[0m\u001b[0;34m\u001b[0m\u001b[0m\n\u001b[1;32m   2526\u001b[0m             \u001b[0;32mexcept\u001b[0m \u001b[0mKeyError\u001b[0m\u001b[0;34m:\u001b[0m\u001b[0;34m\u001b[0m\u001b[0m\n\u001b[0;32m-> 2527\u001b[0;31m                 \u001b[0;32mreturn\u001b[0m \u001b[0mself\u001b[0m\u001b[0;34m.\u001b[0m\u001b[0m_engine\u001b[0m\u001b[0;34m.\u001b[0m\u001b[0mget_loc\u001b[0m\u001b[0;34m(\u001b[0m\u001b[0mself\u001b[0m\u001b[0;34m.\u001b[0m\u001b[0m_maybe_cast_indexer\u001b[0m\u001b[0;34m(\u001b[0m\u001b[0mkey\u001b[0m\u001b[0;34m)\u001b[0m\u001b[0;34m)\u001b[0m\u001b[0;34m\u001b[0m\u001b[0m\n\u001b[0m\u001b[1;32m   2528\u001b[0m \u001b[0;34m\u001b[0m\u001b[0m\n\u001b[1;32m   2529\u001b[0m         \u001b[0mindexer\u001b[0m \u001b[0;34m=\u001b[0m \u001b[0mself\u001b[0m\u001b[0;34m.\u001b[0m\u001b[0mget_indexer\u001b[0m\u001b[0;34m(\u001b[0m\u001b[0;34m[\u001b[0m\u001b[0mkey\u001b[0m\u001b[0;34m]\u001b[0m\u001b[0;34m,\u001b[0m \u001b[0mmethod\u001b[0m\u001b[0;34m=\u001b[0m\u001b[0mmethod\u001b[0m\u001b[0;34m,\u001b[0m \u001b[0mtolerance\u001b[0m\u001b[0;34m=\u001b[0m\u001b[0mtolerance\u001b[0m\u001b[0;34m)\u001b[0m\u001b[0;34m\u001b[0m\u001b[0m\n",
      "\u001b[0;32mpandas/_libs/index.pyx\u001b[0m in \u001b[0;36mpandas._libs.index.IndexEngine.get_loc\u001b[0;34m()\u001b[0m\n",
      "\u001b[0;32mpandas/_libs/index.pyx\u001b[0m in \u001b[0;36mpandas._libs.index.IndexEngine.get_loc\u001b[0;34m()\u001b[0m\n",
      "\u001b[0;32mpandas/_libs/hashtable_class_helper.pxi\u001b[0m in \u001b[0;36mpandas._libs.hashtable.PyObjectHashTable.get_item\u001b[0;34m()\u001b[0m\n",
      "\u001b[0;32mpandas/_libs/hashtable_class_helper.pxi\u001b[0m in \u001b[0;36mpandas._libs.hashtable.PyObjectHashTable.get_item\u001b[0;34m()\u001b[0m\n",
      "\u001b[0;31mKeyError\u001b[0m: 'Nationality'"
     ]
    }
   ],
   "source": [
    "index = enc_arr[enc_arr['Nationality']=='Grand Total'].index[0]\n",
    "index"
   ]
  },
  {
   "cell_type": "markdown",
   "metadata": {},
   "source": [
    "Hmm... that seems to throw an error with the *Nationality* column name not being recognised... Let's check the column names."
   ]
  },
  {
   "cell_type": "code",
   "execution_count": 17,
   "metadata": {},
   "outputs": [
    {
     "data": {
      "text/plain": [
       "Index(['Nationality ', 'BIRMINGHAM', 'BRISTOL', 'CARDIF', 'GLASGOW', 'LEEDS',\n",
       "       'LIVERPOOL', 'LONDON', 'MANCHESTER', 'NEWCASTLE', 'NOTTINGHAM',\n",
       "       'SHEFIELD', 'Grand Total'],\n",
       "      dtype='object')"
      ]
     },
     "execution_count": 17,
     "metadata": {},
     "output_type": "execute_result"
    }
   ],
   "source": [
    "enc_arr.columns"
   ]
  },
  {
   "cell_type": "markdown",
   "metadata": {},
   "source": [
    "Ah, so there's a space. We can remove spaces from the column names and rename the columns after dropping the *Grand Total* column."
   ]
  },
  {
   "cell_type": "code",
   "execution_count": 18,
   "metadata": {},
   "outputs": [],
   "source": [
    "enc_arr.drop(['Grand Total'], axis=1, inplace = True)\n",
    "enc_arr.columns = [col.strip() for col in enc_arr.columns]"
   ]
  },
  {
   "cell_type": "code",
   "execution_count": 19,
   "metadata": {},
   "outputs": [
    {
     "data": {
      "text/html": [
       "<div>\n",
       "<style scoped>\n",
       "    .dataframe tbody tr th:only-of-type {\n",
       "        vertical-align: middle;\n",
       "    }\n",
       "\n",
       "    .dataframe tbody tr th {\n",
       "        vertical-align: top;\n",
       "    }\n",
       "\n",
       "    .dataframe thead th {\n",
       "        text-align: right;\n",
       "    }\n",
       "</style>\n",
       "<table border=\"1\" class=\"dataframe\">\n",
       "  <thead>\n",
       "    <tr style=\"text-align: right;\">\n",
       "      <th></th>\n",
       "      <th>Nationality</th>\n",
       "      <th>BIRMINGHAM</th>\n",
       "      <th>BRISTOL</th>\n",
       "      <th>CARDIF</th>\n",
       "      <th>GLASGOW</th>\n",
       "      <th>LEEDS</th>\n",
       "      <th>LIVERPOOL</th>\n",
       "      <th>LONDON</th>\n",
       "      <th>MANCHESTER</th>\n",
       "      <th>NEWCASTLE</th>\n",
       "      <th>NOTTINGHAM</th>\n",
       "      <th>SHEFIELD</th>\n",
       "    </tr>\n",
       "  </thead>\n",
       "  <tbody>\n",
       "    <tr>\n",
       "      <th>165</th>\n",
       "      <td>VENEZUALA</td>\n",
       "      <td>NaN</td>\n",
       "      <td>NaN</td>\n",
       "      <td>NaN</td>\n",
       "      <td>NaN</td>\n",
       "      <td>1.0</td>\n",
       "      <td>NaN</td>\n",
       "      <td>13.0</td>\n",
       "      <td>1.0</td>\n",
       "      <td>NaN</td>\n",
       "      <td>NaN</td>\n",
       "      <td>NaN</td>\n",
       "    </tr>\n",
       "    <tr>\n",
       "      <th>166</th>\n",
       "      <td>VIETNAM</td>\n",
       "      <td>22.0</td>\n",
       "      <td>5.0</td>\n",
       "      <td>30.0</td>\n",
       "      <td>37.0</td>\n",
       "      <td>29.0</td>\n",
       "      <td>25.0</td>\n",
       "      <td>189.0</td>\n",
       "      <td>13.0</td>\n",
       "      <td>35.0</td>\n",
       "      <td>10.0</td>\n",
       "      <td>24.0</td>\n",
       "    </tr>\n",
       "    <tr>\n",
       "      <th>167</th>\n",
       "      <td>YEMEN</td>\n",
       "      <td>2.0</td>\n",
       "      <td>NaN</td>\n",
       "      <td>1.0</td>\n",
       "      <td>NaN</td>\n",
       "      <td>2.0</td>\n",
       "      <td>7.0</td>\n",
       "      <td>2.0</td>\n",
       "      <td>1.0</td>\n",
       "      <td>NaN</td>\n",
       "      <td>NaN</td>\n",
       "      <td>2.0</td>\n",
       "    </tr>\n",
       "    <tr>\n",
       "      <th>168</th>\n",
       "      <td>ZAMBIA</td>\n",
       "      <td>1.0</td>\n",
       "      <td>1.0</td>\n",
       "      <td>3.0</td>\n",
       "      <td>NaN</td>\n",
       "      <td>3.0</td>\n",
       "      <td>NaN</td>\n",
       "      <td>7.0</td>\n",
       "      <td>4.0</td>\n",
       "      <td>NaN</td>\n",
       "      <td>NaN</td>\n",
       "      <td>1.0</td>\n",
       "    </tr>\n",
       "    <tr>\n",
       "      <th>169</th>\n",
       "      <td>ZIMBABWE</td>\n",
       "      <td>4.0</td>\n",
       "      <td>1.0</td>\n",
       "      <td>6.0</td>\n",
       "      <td>1.0</td>\n",
       "      <td>11.0</td>\n",
       "      <td>1.0</td>\n",
       "      <td>19.0</td>\n",
       "      <td>10.0</td>\n",
       "      <td>3.0</td>\n",
       "      <td>NaN</td>\n",
       "      <td>6.0</td>\n",
       "    </tr>\n",
       "  </tbody>\n",
       "</table>\n",
       "</div>"
      ],
      "text/plain": [
       "    Nationality  BIRMINGHAM  BRISTOL  CARDIF  GLASGOW  LEEDS  LIVERPOOL  \\\n",
       "165   VENEZUALA         NaN      NaN     NaN      NaN    1.0        NaN   \n",
       "166     VIETNAM        22.0      5.0    30.0     37.0   29.0       25.0   \n",
       "167       YEMEN         2.0      NaN     1.0      NaN    2.0        7.0   \n",
       "168      ZAMBIA         1.0      1.0     3.0      NaN    3.0        NaN   \n",
       "169    ZIMBABWE         4.0      1.0     6.0      1.0   11.0        1.0   \n",
       "\n",
       "     LONDON  MANCHESTER  NEWCASTLE  NOTTINGHAM  SHEFIELD  \n",
       "165    13.0         1.0        NaN         NaN       NaN  \n",
       "166   189.0        13.0       35.0        10.0      24.0  \n",
       "167     2.0         1.0        NaN         NaN       2.0  \n",
       "168     7.0         4.0        NaN         NaN       1.0  \n",
       "169    19.0        10.0        3.0         NaN       6.0  "
      ]
     },
     "execution_count": 19,
     "metadata": {},
     "output_type": "execute_result"
    }
   ],
   "source": [
    "#Include rows above the Grand Total row\n",
    "index = enc_arr[enc_arr['Nationality']=='Grand Total'].index[0]\n",
    "enc_arr = enc_arr[enc_arr.index < index]\n",
    "\n",
    "enc_arr.tail()"
   ]
  },
  {
   "cell_type": "code",
   "execution_count": 20,
   "metadata": {},
   "outputs": [
    {
     "name": "stdout",
     "output_type": "stream",
     "text": [
      "480.0 663.0\n",
      "1143.0\n"
     ]
    }
   ],
   "source": [
    "#Check sum against original blog post - claimed as: 1143\n",
    "print( enc_arr['BRISTOL'].sum(), enc_not_arr['BRISTOL'].sum() )\n",
    "print( enc_arr['BRISTOL'].sum() + enc_not_arr['BRISTOL'].sum() )"
   ]
  },
  {
   "cell_type": "markdown",
   "metadata": {},
   "source": [
    "We should probably also do the same for the other table to make sure there is no white space around city names in those column headings."
   ]
  },
  {
   "cell_type": "code",
   "execution_count": 21,
   "metadata": {},
   "outputs": [],
   "source": [
    "enc_not_arr.columns = [col.strip() for col in enc_not_arr.columns]"
   ]
  },
  {
   "cell_type": "markdown",
   "metadata": {},
   "source": [
    "## Pivot the data\n",
    "\n",
    "The data tables we have loaded in are in *wide* format. The data is often easier to work with in a *long* format.\n",
    "\n",
    "For example, if we \"twist\" or pivot the cities in the column names into a column of their own, and the values in to a \"value\" column, each row will contain a value that represents the arrests of each nationality in each city.\n",
    "\n",
    "We can do this using the `melt` operation."
   ]
  },
  {
   "cell_type": "code",
   "execution_count": 22,
   "metadata": {},
   "outputs": [
    {
     "data": {
      "text/html": [
       "<div>\n",
       "<style scoped>\n",
       "    .dataframe tbody tr th:only-of-type {\n",
       "        vertical-align: middle;\n",
       "    }\n",
       "\n",
       "    .dataframe tbody tr th {\n",
       "        vertical-align: top;\n",
       "    }\n",
       "\n",
       "    .dataframe thead th {\n",
       "        text-align: right;\n",
       "    }\n",
       "</style>\n",
       "<table border=\"1\" class=\"dataframe\">\n",
       "  <thead>\n",
       "    <tr style=\"text-align: right;\">\n",
       "      <th></th>\n",
       "      <th>Nationality</th>\n",
       "      <th>variable</th>\n",
       "      <th>value</th>\n",
       "    </tr>\n",
       "  </thead>\n",
       "  <tbody>\n",
       "    <tr>\n",
       "      <th>0</th>\n",
       "      <td>AFGHANISTAN</td>\n",
       "      <td>BIRMINGHAM</td>\n",
       "      <td>222.0</td>\n",
       "    </tr>\n",
       "    <tr>\n",
       "      <th>1</th>\n",
       "      <td>ALBANIA</td>\n",
       "      <td>BIRMINGHAM</td>\n",
       "      <td>27.0</td>\n",
       "    </tr>\n",
       "    <tr>\n",
       "      <th>2</th>\n",
       "      <td>ALGERIA</td>\n",
       "      <td>BIRMINGHAM</td>\n",
       "      <td>10.0</td>\n",
       "    </tr>\n",
       "    <tr>\n",
       "      <th>3</th>\n",
       "      <td>ANGOLA</td>\n",
       "      <td>BIRMINGHAM</td>\n",
       "      <td>1.0</td>\n",
       "    </tr>\n",
       "    <tr>\n",
       "      <th>4</th>\n",
       "      <td>ARGENTINA</td>\n",
       "      <td>BIRMINGHAM</td>\n",
       "      <td>NaN</td>\n",
       "    </tr>\n",
       "  </tbody>\n",
       "</table>\n",
       "</div>"
      ],
      "text/plain": [
       "   Nationality    variable  value\n",
       "0  AFGHANISTAN  BIRMINGHAM  222.0\n",
       "1      ALBANIA  BIRMINGHAM   27.0\n",
       "2      ALGERIA  BIRMINGHAM   10.0\n",
       "3       ANGOLA  BIRMINGHAM    1.0\n",
       "4    ARGENTINA  BIRMINGHAM    NaN"
      ]
     },
     "execution_count": 22,
     "metadata": {},
     "output_type": "execute_result"
    }
   ],
   "source": [
    "pd.melt(enc_not_arr, id_vars='Nationality').head()"
   ]
  },
  {
   "cell_type": "code",
   "execution_count": 23,
   "metadata": {},
   "outputs": [
    {
     "data": {
      "text/html": [
       "<div>\n",
       "<style scoped>\n",
       "    .dataframe tbody tr th:only-of-type {\n",
       "        vertical-align: middle;\n",
       "    }\n",
       "\n",
       "    .dataframe tbody tr th {\n",
       "        vertical-align: top;\n",
       "    }\n",
       "\n",
       "    .dataframe thead th {\n",
       "        text-align: right;\n",
       "    }\n",
       "</style>\n",
       "<table border=\"1\" class=\"dataframe\">\n",
       "  <thead>\n",
       "    <tr style=\"text-align: right;\">\n",
       "      <th></th>\n",
       "      <th>Nationality</th>\n",
       "      <th>City</th>\n",
       "      <th>Not Arrested</th>\n",
       "    </tr>\n",
       "  </thead>\n",
       "  <tbody>\n",
       "    <tr>\n",
       "      <th>0</th>\n",
       "      <td>AFGHANISTAN</td>\n",
       "      <td>BIRMINGHAM</td>\n",
       "      <td>222.0</td>\n",
       "    </tr>\n",
       "    <tr>\n",
       "      <th>1</th>\n",
       "      <td>ALBANIA</td>\n",
       "      <td>BIRMINGHAM</td>\n",
       "      <td>27.0</td>\n",
       "    </tr>\n",
       "    <tr>\n",
       "      <th>2</th>\n",
       "      <td>ALGERIA</td>\n",
       "      <td>BIRMINGHAM</td>\n",
       "      <td>10.0</td>\n",
       "    </tr>\n",
       "    <tr>\n",
       "      <th>3</th>\n",
       "      <td>ANGOLA</td>\n",
       "      <td>BIRMINGHAM</td>\n",
       "      <td>1.0</td>\n",
       "    </tr>\n",
       "    <tr>\n",
       "      <th>4</th>\n",
       "      <td>ARGENTINA</td>\n",
       "      <td>BIRMINGHAM</td>\n",
       "      <td>NaN</td>\n",
       "    </tr>\n",
       "  </tbody>\n",
       "</table>\n",
       "</div>"
      ],
      "text/plain": [
       "   Nationality        City  Not Arrested\n",
       "0  AFGHANISTAN  BIRMINGHAM         222.0\n",
       "1      ALBANIA  BIRMINGHAM          27.0\n",
       "2      ALGERIA  BIRMINGHAM          10.0\n",
       "3       ANGOLA  BIRMINGHAM           1.0\n",
       "4    ARGENTINA  BIRMINGHAM           NaN"
      ]
     },
     "execution_count": 23,
     "metadata": {},
     "output_type": "execute_result"
    }
   ],
   "source": [
    "enc_not_arr_long = pd.melt(enc_not_arr,\n",
    "                           id_vars='Nationality',\n",
    "                           var_name ='City',\n",
    "                           value_name = 'Not Arrested')\n",
    "enc_not_arr_long.head()"
   ]
  },
  {
   "cell_type": "code",
   "execution_count": 24,
   "metadata": {},
   "outputs": [
    {
     "data": {
      "text/html": [
       "<div>\n",
       "<style scoped>\n",
       "    .dataframe tbody tr th:only-of-type {\n",
       "        vertical-align: middle;\n",
       "    }\n",
       "\n",
       "    .dataframe tbody tr th {\n",
       "        vertical-align: top;\n",
       "    }\n",
       "\n",
       "    .dataframe thead th {\n",
       "        text-align: right;\n",
       "    }\n",
       "</style>\n",
       "<table border=\"1\" class=\"dataframe\">\n",
       "  <thead>\n",
       "    <tr style=\"text-align: right;\">\n",
       "      <th></th>\n",
       "      <th>Nationality</th>\n",
       "      <th>City</th>\n",
       "      <th>Arrested</th>\n",
       "    </tr>\n",
       "  </thead>\n",
       "  <tbody>\n",
       "    <tr>\n",
       "      <th>0</th>\n",
       "      <td>AFGHANISTAN</td>\n",
       "      <td>BIRMINGHAM</td>\n",
       "      <td>189.0</td>\n",
       "    </tr>\n",
       "    <tr>\n",
       "      <th>1</th>\n",
       "      <td>ALBANIA</td>\n",
       "      <td>BIRMINGHAM</td>\n",
       "      <td>40.0</td>\n",
       "    </tr>\n",
       "    <tr>\n",
       "      <th>2</th>\n",
       "      <td>ALGERIA</td>\n",
       "      <td>BIRMINGHAM</td>\n",
       "      <td>7.0</td>\n",
       "    </tr>\n",
       "    <tr>\n",
       "      <th>3</th>\n",
       "      <td>ANGOLA</td>\n",
       "      <td>BIRMINGHAM</td>\n",
       "      <td>NaN</td>\n",
       "    </tr>\n",
       "    <tr>\n",
       "      <th>4</th>\n",
       "      <td>ANTIGUA AND BARBUDA</td>\n",
       "      <td>BIRMINGHAM</td>\n",
       "      <td>NaN</td>\n",
       "    </tr>\n",
       "  </tbody>\n",
       "</table>\n",
       "</div>"
      ],
      "text/plain": [
       "           Nationality        City  Arrested\n",
       "0          AFGHANISTAN  BIRMINGHAM     189.0\n",
       "1              ALBANIA  BIRMINGHAM      40.0\n",
       "2              ALGERIA  BIRMINGHAM       7.0\n",
       "3               ANGOLA  BIRMINGHAM       NaN\n",
       "4  ANTIGUA AND BARBUDA  BIRMINGHAM       NaN"
      ]
     },
     "execution_count": 24,
     "metadata": {},
     "output_type": "execute_result"
    }
   ],
   "source": [
    "enc_arr_long = pd.melt(enc_arr,\n",
    "                       id_vars='Nationality',\n",
    "                       var_name = 'City',\n",
    "                       value_name = 'Arrested',)\n",
    "enc_arr_long.head()"
   ]
  },
  {
   "cell_type": "markdown",
   "metadata": {},
   "source": [
    "## Merging the Data\n",
    "\n",
    "Now we can create a single datatable by merging those two datasets based on common *Nationality* and *City*. We use an *outer join* to make sure all rows form both tables are included in the merged result."
   ]
  },
  {
   "cell_type": "code",
   "execution_count": 25,
   "metadata": {},
   "outputs": [
    {
     "data": {
      "text/html": [
       "<div>\n",
       "<style scoped>\n",
       "    .dataframe tbody tr th:only-of-type {\n",
       "        vertical-align: middle;\n",
       "    }\n",
       "\n",
       "    .dataframe tbody tr th {\n",
       "        vertical-align: top;\n",
       "    }\n",
       "\n",
       "    .dataframe thead th {\n",
       "        text-align: right;\n",
       "    }\n",
       "</style>\n",
       "<table border=\"1\" class=\"dataframe\">\n",
       "  <thead>\n",
       "    <tr style=\"text-align: right;\">\n",
       "      <th></th>\n",
       "      <th>Nationality</th>\n",
       "      <th>City</th>\n",
       "      <th>Arrested</th>\n",
       "      <th>Not Arrested</th>\n",
       "    </tr>\n",
       "  </thead>\n",
       "  <tbody>\n",
       "    <tr>\n",
       "      <th>0</th>\n",
       "      <td>AFGHANISTAN</td>\n",
       "      <td>BIRMINGHAM</td>\n",
       "      <td>189.0</td>\n",
       "      <td>222.0</td>\n",
       "    </tr>\n",
       "    <tr>\n",
       "      <th>1</th>\n",
       "      <td>ALBANIA</td>\n",
       "      <td>BIRMINGHAM</td>\n",
       "      <td>40.0</td>\n",
       "      <td>27.0</td>\n",
       "    </tr>\n",
       "    <tr>\n",
       "      <th>2</th>\n",
       "      <td>ALGERIA</td>\n",
       "      <td>BIRMINGHAM</td>\n",
       "      <td>7.0</td>\n",
       "      <td>10.0</td>\n",
       "    </tr>\n",
       "    <tr>\n",
       "      <th>3</th>\n",
       "      <td>ANGOLA</td>\n",
       "      <td>BIRMINGHAM</td>\n",
       "      <td>NaN</td>\n",
       "      <td>1.0</td>\n",
       "    </tr>\n",
       "    <tr>\n",
       "      <th>4</th>\n",
       "      <td>ANTIGUA AND BARBUDA</td>\n",
       "      <td>BIRMINGHAM</td>\n",
       "      <td>NaN</td>\n",
       "      <td>NaN</td>\n",
       "    </tr>\n",
       "  </tbody>\n",
       "</table>\n",
       "</div>"
      ],
      "text/plain": [
       "           Nationality        City  Arrested  Not Arrested\n",
       "0          AFGHANISTAN  BIRMINGHAM     189.0         222.0\n",
       "1              ALBANIA  BIRMINGHAM      40.0          27.0\n",
       "2              ALGERIA  BIRMINGHAM       7.0          10.0\n",
       "3               ANGOLA  BIRMINGHAM       NaN           1.0\n",
       "4  ANTIGUA AND BARBUDA  BIRMINGHAM       NaN           NaN"
      ]
     },
     "execution_count": 25,
     "metadata": {},
     "output_type": "execute_result"
    }
   ],
   "source": [
    "enc_merge_long = enc_arr_long.merge( enc_not_arr_long, \n",
    "                                    on = ['Nationality', 'City'], \n",
    "                                    how='outer')\n",
    "enc_merge_long.head()"
   ]
  },
  {
   "cell_type": "markdown",
   "metadata": {},
   "source": [
    "That looks okay... but we are assuming all the cities and nationalities match. Let's check that.\n",
    "\n",
    "We'll look for names that appear in the *Nationality* (or *City*) in one of the original tables that don't appear in the other.\n",
    "\n",
    "Let's start with *City*.\n",
    "\n",
    "We can use a `symmetric_difference()` operator on sets of values (that is, unique collections of values) to find items that are in one list only."
   ]
  },
  {
   "cell_type": "code",
   "execution_count": 26,
   "metadata": {},
   "outputs": [
    {
     "data": {
      "text/plain": [
       "{'a', 'd'}"
      ]
     },
     "execution_count": 26,
     "metadata": {},
     "output_type": "execute_result"
    }
   ],
   "source": [
    "set(['a','b','c']).symmetric_difference(set(['b','c','d']))"
   ]
  },
  {
   "cell_type": "markdown",
   "metadata": {},
   "source": [
    "Let's apply that to see if there are differences in the menbers of the *City* column in each table."
   ]
  },
  {
   "cell_type": "code",
   "execution_count": 27,
   "metadata": {},
   "outputs": [
    {
     "data": {
      "text/plain": [
       "{'CARDIF', 'CARDIFF', 'SHEFFIELD', 'SHEFIELD'}"
      ]
     },
     "execution_count": 27,
     "metadata": {},
     "output_type": "execute_result"
    }
   ],
   "source": [
    "set(enc_arr_long['City']).symmetric_difference(set(enc_not_arr_long['City']))"
   ]
  },
  {
   "cell_type": "markdown",
   "metadata": {},
   "source": [
    "Okay, so there are some differences - and these look like near misses..."
   ]
  },
  {
   "cell_type": "code",
   "execution_count": 28,
   "metadata": {},
   "outputs": [
    {
     "name": "stdout",
     "output_type": "stream",
     "text": [
      "Items in enc_arr_long not in enc_not_arr_long: {'CARDIF', 'SHEFIELD'}\n",
      "Items in enc_not_arr_long not in enc_arr_long: {'SHEFFIELD', 'CARDIFF'}\n"
     ]
    }
   ],
   "source": [
    "items_in_arr_alone = set(enc_arr_long['City']) - (set(enc_not_arr_long['City']) )\n",
    "print( 'Items in enc_arr_long not in enc_not_arr_long: {}'.format(items_in_arr_alone) )\n",
    "\n",
    "items_in_not_arr_alone = set(enc_not_arr_long['City']) - (set(enc_arr_long['City']) )\n",
    "print( 'Items in enc_not_arr_long not in enc_arr_long: {}'.format(items_in_not_arr_alone) )\n"
   ]
  },
  {
   "cell_type": "markdown",
   "metadata": {},
   "source": [
    "We should probably correct the spellings in the `enc_arr_long` dataframe. "
   ]
  },
  {
   "cell_type": "code",
   "execution_count": 29,
   "metadata": {},
   "outputs": [
    {
     "data": {
      "text/plain": [
       "set()"
      ]
     },
     "execution_count": 29,
     "metadata": {},
     "output_type": "execute_result"
    }
   ],
   "source": [
    "enc_arr_long['City'] = enc_arr_long['City'].str.replace('CARDIF', 'CARDIFF')\n",
    "enc_arr_long['City'] = enc_arr_long['City'].str.replace('SHEFIELD', 'SHEFFIELD')\n",
    "\n",
    "set(enc_arr_long['City']).symmetric_difference(set(enc_not_arr_long['City']))"
   ]
  },
  {
   "cell_type": "markdown",
   "metadata": {},
   "source": [
    "How about the *Nationality* column. Are there mismatches there?"
   ]
  },
  {
   "cell_type": "code",
   "execution_count": 30,
   "metadata": {},
   "outputs": [
    {
     "data": {
      "text/plain": [
       "{'ANTIGUA AND BARBUDA',\n",
       " 'BELIZE',\n",
       " 'BRITISH DEPENDENT - TERRITORIES CITIZEN',\n",
       " 'BRITISH DEPENDENT - TERRITORY NOT KNOWN',\n",
       " 'BRITISH OVERSEAS TERRITORIES CITIZEN',\n",
       " 'BRITISH SUBJECT',\n",
       " 'BRUNEI',\n",
       " 'CAPE VERDE',\n",
       " 'FIJI',\n",
       " 'FRENCH POLYNESIA',\n",
       " 'GABON',\n",
       " 'HAITI',\n",
       " 'HONG KONG - (holders of both Certificates of Identity and Documents of Identity)',\n",
       " 'ICELAND',\n",
       " 'KAZAKHSTAN',\n",
       " 'LAOS',\n",
       " 'LESOTHO',\n",
       " 'LUXEMBOURG',\n",
       " 'MALTA',\n",
       " 'MONTSERRAT',\n",
       " 'NAURU',\n",
       " 'NICARAGUA',\n",
       " 'NO NATIONALITY',\n",
       " 'NORWAY',\n",
       " 'PALAU',\n",
       " 'PAPUA NEW GUINEA',\n",
       " 'REUNION',\n",
       " 'SAO TOME AND PRINCIPE',\n",
       " 'SEYCHELLES',\n",
       " 'SLOVENIA',\n",
       " 'STATELESS REFUGEE - (1951 Convention definition)',\n",
       " 'STATELESS REFUGEE - (951 Convention definition)',\n",
       " 'SWITZERLAND',\n",
       " 'TAJIKISTAN',\n",
       " 'TONGA',\n",
       " 'UNITED ARAB IMIRATES',\n",
       " 'WESTERN SAHARA'}"
      ]
     },
     "execution_count": 30,
     "metadata": {},
     "output_type": "execute_result"
    }
   ],
   "source": [
    "set(enc_arr_long['Nationality']).symmetric_difference(set(enc_not_arr_long['Nationality']))"
   ]
  },
  {
   "cell_type": "markdown",
   "metadata": {},
   "source": [
    "This is a bit more difficult to make sense of. There only seems to be one clear typo / mismatch (can you see which?).\n",
    "\n",
    "The other values appear to be unique to one table or the other, although there may be typos.\n",
    "\n",
    "It's not immediately clear how the *BRITISH* identified citizens should be matched."
   ]
  },
  {
   "cell_type": "code",
   "execution_count": 31,
   "metadata": {},
   "outputs": [
    {
     "name": "stdout",
     "output_type": "stream",
     "text": [
      "Items in enc_arr_long not in enc_not_arr_long: {'BELIZE', 'NAURU', 'HAITI', 'LAOS', 'ANTIGUA AND BARBUDA', 'NICARAGUA', 'FRENCH POLYNESIA', 'BRITISH OVERSEAS TERRITORIES CITIZEN', 'LESOTHO', 'GABON', 'STATELESS REFUGEE - (1951 Convention definition)'}\n",
      "Items in enc_not_arr_long not in enc_arr_long: {'MONTSERRAT', 'HONG KONG - (holders of both Certificates of Identity and Documents of Identity)', 'SWITZERLAND', 'TONGA', 'SEYCHELLES', 'WESTERN SAHARA', 'STATELESS REFUGEE - (951 Convention definition)', 'KAZAKHSTAN', 'BRUNEI', 'BRITISH SUBJECT', 'NORWAY', 'CAPE VERDE', 'BRITISH DEPENDENT - TERRITORIES CITIZEN', 'UNITED ARAB IMIRATES', 'FIJI', 'TAJIKISTAN', 'PALAU', 'BRITISH DEPENDENT - TERRITORY NOT KNOWN', 'NO NATIONALITY', 'SLOVENIA', 'ICELAND', 'REUNION', 'PAPUA NEW GUINEA', 'SAO TOME AND PRINCIPE', 'LUXEMBOURG', 'MALTA'}\n"
     ]
    }
   ],
   "source": [
    "#Let's start to abstract things out\n",
    "typ= 'Nationality'\n",
    "\n",
    "items_in_arr_alone = set(enc_arr_long[typ]) - (set(enc_not_arr_long[typ]) )\n",
    "print( 'Items in enc_arr_long not in enc_not_arr_long: {}'.format(items_in_arr_alone) )\n",
    "\n",
    "items_in_not_arr_alone = set(enc_not_arr_long[typ]) - (set(enc_arr_long[typ]) )\n",
    "print( 'Items in enc_not_arr_long not in enc_arr_long: {}'.format(items_in_not_arr_alone) )"
   ]
  },
  {
   "cell_type": "code",
   "execution_count": 32,
   "metadata": {},
   "outputs": [],
   "source": [
    "enc_not_arr_long['City'] = enc_not_arr_long['City'].str.replace('(951 Convention definition)',\n",
    "                                                                '(1951 Convention definition)')\n"
   ]
  },
  {
   "cell_type": "markdown",
   "metadata": {},
   "source": [
    "Let's redo the merge with the cleaned data.\n",
    "\n",
    "__Note, the uncommented version is actually incorrect, and creates an error that we detect later on. The error is left in to demonstrate the error finding process.__"
   ]
  },
  {
   "cell_type": "code",
   "execution_count": 33,
   "metadata": {},
   "outputs": [
    {
     "data": {
      "text/html": [
       "<div>\n",
       "<style scoped>\n",
       "    .dataframe tbody tr th:only-of-type {\n",
       "        vertical-align: middle;\n",
       "    }\n",
       "\n",
       "    .dataframe tbody tr th {\n",
       "        vertical-align: top;\n",
       "    }\n",
       "\n",
       "    .dataframe thead th {\n",
       "        text-align: right;\n",
       "    }\n",
       "</style>\n",
       "<table border=\"1\" class=\"dataframe\">\n",
       "  <thead>\n",
       "    <tr style=\"text-align: right;\">\n",
       "      <th></th>\n",
       "      <th>Nationality</th>\n",
       "      <th>City</th>\n",
       "      <th>Arrested</th>\n",
       "      <th>Not Arrested</th>\n",
       "    </tr>\n",
       "  </thead>\n",
       "  <tbody>\n",
       "    <tr>\n",
       "      <th>0</th>\n",
       "      <td>AFGHANISTAN</td>\n",
       "      <td>BIRMINGHAM</td>\n",
       "      <td>189.0</td>\n",
       "      <td>222.0</td>\n",
       "    </tr>\n",
       "    <tr>\n",
       "      <th>1</th>\n",
       "      <td>ALBANIA</td>\n",
       "      <td>BIRMINGHAM</td>\n",
       "      <td>40.0</td>\n",
       "      <td>27.0</td>\n",
       "    </tr>\n",
       "    <tr>\n",
       "      <th>2</th>\n",
       "      <td>ALGERIA</td>\n",
       "      <td>BIRMINGHAM</td>\n",
       "      <td>7.0</td>\n",
       "      <td>10.0</td>\n",
       "    </tr>\n",
       "    <tr>\n",
       "      <th>3</th>\n",
       "      <td>ANGOLA</td>\n",
       "      <td>BIRMINGHAM</td>\n",
       "      <td>NaN</td>\n",
       "      <td>1.0</td>\n",
       "    </tr>\n",
       "    <tr>\n",
       "      <th>4</th>\n",
       "      <td>ARGENTINA</td>\n",
       "      <td>BIRMINGHAM</td>\n",
       "      <td>NaN</td>\n",
       "      <td>NaN</td>\n",
       "    </tr>\n",
       "  </tbody>\n",
       "</table>\n",
       "</div>"
      ],
      "text/plain": [
       "   Nationality        City  Arrested  Not Arrested\n",
       "0  AFGHANISTAN  BIRMINGHAM     189.0         222.0\n",
       "1      ALBANIA  BIRMINGHAM      40.0          27.0\n",
       "2      ALGERIA  BIRMINGHAM       7.0          10.0\n",
       "3       ANGOLA  BIRMINGHAM       NaN           1.0\n",
       "4    ARGENTINA  BIRMINGHAM       NaN           NaN"
      ]
     },
     "execution_count": 33,
     "metadata": {},
     "output_type": "execute_result"
    }
   ],
   "source": [
    "#Incorrect version\n",
    "enc_merge_long = enc_arr_long.merge( enc_not_arr_long, on = ['Nationality', 'City'] )\n",
    "\n",
    "#Correct version - we need an 'outer' join to ensure all rows from both sides are included\n",
    "#enc_merge_long = enc_arr_long.merge( enc_not_arr_long, on = ['Nationality', 'City'],\n",
    "#                                    how='outer' )\n",
    "\n",
    "enc_merge_long.head()"
   ]
  },
  {
   "cell_type": "code",
   "execution_count": 34,
   "metadata": {},
   "outputs": [],
   "source": [
    "#Let's use a shorter variable name\n",
    "df = enc_merge_long"
   ]
  },
  {
   "cell_type": "code",
   "execution_count": 35,
   "metadata": {},
   "outputs": [
    {
     "data": {
      "text/html": [
       "<div>\n",
       "<style scoped>\n",
       "    .dataframe tbody tr th:only-of-type {\n",
       "        vertical-align: middle;\n",
       "    }\n",
       "\n",
       "    .dataframe tbody tr th {\n",
       "        vertical-align: top;\n",
       "    }\n",
       "\n",
       "    .dataframe thead th {\n",
       "        text-align: right;\n",
       "    }\n",
       "</style>\n",
       "<table border=\"1\" class=\"dataframe\">\n",
       "  <thead>\n",
       "    <tr style=\"text-align: right;\">\n",
       "      <th></th>\n",
       "      <th>Nationality</th>\n",
       "      <th>City</th>\n",
       "      <th>Arrested</th>\n",
       "      <th>Not Arrested</th>\n",
       "      <th>Per Cent Arrested</th>\n",
       "    </tr>\n",
       "  </thead>\n",
       "  <tbody>\n",
       "    <tr>\n",
       "      <th>796</th>\n",
       "      <td>ALBANIA</td>\n",
       "      <td>LIVERPOOL</td>\n",
       "      <td>36.0</td>\n",
       "      <td>2.0</td>\n",
       "      <td>94.736842</td>\n",
       "    </tr>\n",
       "    <tr>\n",
       "      <th>851</th>\n",
       "      <td>GHANA</td>\n",
       "      <td>LIVERPOOL</td>\n",
       "      <td>52.0</td>\n",
       "      <td>3.0</td>\n",
       "      <td>94.545455</td>\n",
       "    </tr>\n",
       "    <tr>\n",
       "      <th>822</th>\n",
       "      <td>CAMEROON</td>\n",
       "      <td>LIVERPOOL</td>\n",
       "      <td>12.0</td>\n",
       "      <td>1.0</td>\n",
       "      <td>92.307692</td>\n",
       "    </tr>\n",
       "    <tr>\n",
       "      <th>374</th>\n",
       "      <td>GHANA</td>\n",
       "      <td>CARDIFF</td>\n",
       "      <td>10.0</td>\n",
       "      <td>1.0</td>\n",
       "      <td>90.909091</td>\n",
       "    </tr>\n",
       "    <tr>\n",
       "      <th>1208</th>\n",
       "      <td>MAURITIUS</td>\n",
       "      <td>MANCHESTER</td>\n",
       "      <td>10.0</td>\n",
       "      <td>1.0</td>\n",
       "      <td>90.909091</td>\n",
       "    </tr>\n",
       "  </tbody>\n",
       "</table>\n",
       "</div>"
      ],
      "text/plain": [
       "     Nationality        City  Arrested  Not Arrested  Per Cent Arrested\n",
       "796      ALBANIA   LIVERPOOL      36.0           2.0          94.736842\n",
       "851        GHANA   LIVERPOOL      52.0           3.0          94.545455\n",
       "822     CAMEROON   LIVERPOOL      12.0           1.0          92.307692\n",
       "374        GHANA     CARDIFF      10.0           1.0          90.909091\n",
       "1208   MAURITIUS  MANCHESTER      10.0           1.0          90.909091"
      ]
     },
     "execution_count": 35,
     "metadata": {},
     "output_type": "execute_result"
    }
   ],
   "source": [
    "df['Per Cent Arrested'] =  100 * df['Arrested'] / (df['Arrested'] + df['Not Arrested'])\n",
    "df.sort_values('Per Cent Arrested', ascending = False).head()"
   ]
  },
  {
   "cell_type": "code",
   "execution_count": 36,
   "metadata": {},
   "outputs": [
    {
     "data": {
      "text/html": [
       "<div>\n",
       "<style scoped>\n",
       "    .dataframe tbody tr th:only-of-type {\n",
       "        vertical-align: middle;\n",
       "    }\n",
       "\n",
       "    .dataframe tbody tr th {\n",
       "        vertical-align: top;\n",
       "    }\n",
       "\n",
       "    .dataframe thead th {\n",
       "        text-align: right;\n",
       "    }\n",
       "</style>\n",
       "<table border=\"1\" class=\"dataframe\">\n",
       "  <thead>\n",
       "    <tr style=\"text-align: right;\">\n",
       "      <th></th>\n",
       "      <th>Arrested</th>\n",
       "      <th>Not Arrested</th>\n",
       "    </tr>\n",
       "    <tr>\n",
       "      <th>City</th>\n",
       "      <th></th>\n",
       "      <th></th>\n",
       "    </tr>\n",
       "  </thead>\n",
       "  <tbody>\n",
       "    <tr>\n",
       "      <th>BIRMINGHAM</th>\n",
       "      <td>2056.0</td>\n",
       "      <td>5455.0</td>\n",
       "    </tr>\n",
       "    <tr>\n",
       "      <th>BRISTOL</th>\n",
       "      <td>480.0</td>\n",
       "      <td>662.0</td>\n",
       "    </tr>\n",
       "    <tr>\n",
       "      <th>CARDIFF</th>\n",
       "      <td>1244.0</td>\n",
       "      <td>3188.0</td>\n",
       "    </tr>\n",
       "    <tr>\n",
       "      <th>GLASGOW</th>\n",
       "      <td>1025.0</td>\n",
       "      <td>3732.0</td>\n",
       "    </tr>\n",
       "    <tr>\n",
       "      <th>LEEDS</th>\n",
       "      <td>864.0</td>\n",
       "      <td>1934.0</td>\n",
       "    </tr>\n",
       "  </tbody>\n",
       "</table>\n",
       "</div>"
      ],
      "text/plain": [
       "            Arrested  Not Arrested\n",
       "City                              \n",
       "BIRMINGHAM    2056.0        5455.0\n",
       "BRISTOL        480.0         662.0\n",
       "CARDIFF       1244.0        3188.0\n",
       "GLASGOW       1025.0        3732.0\n",
       "LEEDS          864.0        1934.0"
      ]
     },
     "execution_count": 36,
     "metadata": {},
     "output_type": "execute_result"
    }
   ],
   "source": [
    "df_bycity = df.groupby('City')['Arrested','Not Arrested'].apply( sum)\n",
    "df_bycity.head()"
   ]
  },
  {
   "cell_type": "code",
   "execution_count": 37,
   "metadata": {},
   "outputs": [
    {
     "data": {
      "text/plain": [
       "Index(['BIRMINGHAM', 'BRISTOL', 'CARDIFF', 'GLASGOW', 'LEEDS', 'LIVERPOOL',\n",
       "       'LONDON', 'MANCHESTER', 'NEWCASTLE', 'NOTTINGHAM', 'SHEFFIELD'],\n",
       "      dtype='object', name='City')"
      ]
     },
     "execution_count": 37,
     "metadata": {},
     "output_type": "execute_result"
    }
   ],
   "source": [
    "df_bycity.index"
   ]
  },
  {
   "cell_type": "code",
   "execution_count": 38,
   "metadata": {},
   "outputs": [
    {
     "data": {
      "text/html": [
       "<div>\n",
       "<style scoped>\n",
       "    .dataframe tbody tr th:only-of-type {\n",
       "        vertical-align: middle;\n",
       "    }\n",
       "\n",
       "    .dataframe tbody tr th {\n",
       "        vertical-align: top;\n",
       "    }\n",
       "\n",
       "    .dataframe thead th {\n",
       "        text-align: right;\n",
       "    }\n",
       "</style>\n",
       "<table border=\"1\" class=\"dataframe\">\n",
       "  <thead>\n",
       "    <tr style=\"text-align: right;\">\n",
       "      <th></th>\n",
       "      <th>Arrested</th>\n",
       "      <th>Not Arrested</th>\n",
       "      <th>Per Cent Arrested</th>\n",
       "    </tr>\n",
       "    <tr>\n",
       "      <th>City</th>\n",
       "      <th></th>\n",
       "      <th></th>\n",
       "      <th></th>\n",
       "    </tr>\n",
       "  </thead>\n",
       "  <tbody>\n",
       "    <tr>\n",
       "      <th>BRISTOL</th>\n",
       "      <td>480.0</td>\n",
       "      <td>662.0</td>\n",
       "      <td>42.031524</td>\n",
       "    </tr>\n",
       "    <tr>\n",
       "      <th>LEEDS</th>\n",
       "      <td>864.0</td>\n",
       "      <td>1934.0</td>\n",
       "      <td>30.879199</td>\n",
       "    </tr>\n",
       "    <tr>\n",
       "      <th>LIVERPOOL</th>\n",
       "      <td>1309.0</td>\n",
       "      <td>3043.0</td>\n",
       "      <td>30.078125</td>\n",
       "    </tr>\n",
       "    <tr>\n",
       "      <th>CARDIFF</th>\n",
       "      <td>1244.0</td>\n",
       "      <td>3188.0</td>\n",
       "      <td>28.068592</td>\n",
       "    </tr>\n",
       "    <tr>\n",
       "      <th>MANCHESTER</th>\n",
       "      <td>2654.0</td>\n",
       "      <td>6838.0</td>\n",
       "      <td>27.960388</td>\n",
       "    </tr>\n",
       "  </tbody>\n",
       "</table>\n",
       "</div>"
      ],
      "text/plain": [
       "            Arrested  Not Arrested  Per Cent Arrested\n",
       "City                                                 \n",
       "BRISTOL        480.0         662.0          42.031524\n",
       "LEEDS          864.0        1934.0          30.879199\n",
       "LIVERPOOL     1309.0        3043.0          30.078125\n",
       "CARDIFF       1244.0        3188.0          28.068592\n",
       "MANCHESTER    2654.0        6838.0          27.960388"
      ]
     },
     "execution_count": 38,
     "metadata": {},
     "output_type": "execute_result"
    }
   ],
   "source": [
    "def pc(df):\n",
    "    return 100 * df['Arrested'] / (df['Arrested'] + df['Not Arrested'])\n",
    "\n",
    "df_bycity['Per Cent Arrested'] =  pc(df_bycity)\n",
    "df_bycity.sort_values('Per Cent Arrested', ascending = False).head()"
   ]
  },
  {
   "cell_type": "code",
   "execution_count": 39,
   "metadata": {},
   "outputs": [
    {
     "data": {
      "text/html": [
       "<div>\n",
       "<style scoped>\n",
       "    .dataframe tbody tr th:only-of-type {\n",
       "        vertical-align: middle;\n",
       "    }\n",
       "\n",
       "    .dataframe tbody tr th {\n",
       "        vertical-align: top;\n",
       "    }\n",
       "\n",
       "    .dataframe thead th {\n",
       "        text-align: right;\n",
       "    }\n",
       "</style>\n",
       "<table border=\"1\" class=\"dataframe\">\n",
       "  <thead>\n",
       "    <tr style=\"text-align: right;\">\n",
       "      <th></th>\n",
       "      <th>Arrested</th>\n",
       "      <th>Not Arrested</th>\n",
       "      <th>Per Cent Arrested</th>\n",
       "    </tr>\n",
       "    <tr>\n",
       "      <th>Nationality</th>\n",
       "      <th></th>\n",
       "      <th></th>\n",
       "      <th></th>\n",
       "    </tr>\n",
       "  </thead>\n",
       "  <tbody>\n",
       "    <tr>\n",
       "      <th>GUATEMALA</th>\n",
       "      <td>14.0</td>\n",
       "      <td>1.0</td>\n",
       "      <td>93.333333</td>\n",
       "    </tr>\n",
       "    <tr>\n",
       "      <th>PARAGUAY</th>\n",
       "      <td>9.0</td>\n",
       "      <td>1.0</td>\n",
       "      <td>90.000000</td>\n",
       "    </tr>\n",
       "    <tr>\n",
       "      <th>BENIN</th>\n",
       "      <td>8.0</td>\n",
       "      <td>1.0</td>\n",
       "      <td>88.888889</td>\n",
       "    </tr>\n",
       "    <tr>\n",
       "      <th>ST. KITTS AND NEVIS</th>\n",
       "      <td>7.0</td>\n",
       "      <td>2.0</td>\n",
       "      <td>77.777778</td>\n",
       "    </tr>\n",
       "    <tr>\n",
       "      <th>MAURITANIA</th>\n",
       "      <td>3.0</td>\n",
       "      <td>1.0</td>\n",
       "      <td>75.000000</td>\n",
       "    </tr>\n",
       "  </tbody>\n",
       "</table>\n",
       "</div>"
      ],
      "text/plain": [
       "                     Arrested  Not Arrested  Per Cent Arrested\n",
       "Nationality                                                   \n",
       "GUATEMALA                14.0           1.0          93.333333\n",
       "PARAGUAY                  9.0           1.0          90.000000\n",
       "BENIN                     8.0           1.0          88.888889\n",
       "ST. KITTS AND NEVIS       7.0           2.0          77.777778\n",
       "MAURITANIA                3.0           1.0          75.000000"
      ]
     },
     "execution_count": 39,
     "metadata": {},
     "output_type": "execute_result"
    }
   ],
   "source": [
    "df_bynationality = df.groupby('Nationality')['Arrested','Not Arrested'].apply( sum)\n",
    "df_bynationality['Per Cent Arrested'] =  pc(df_bynationality)\n",
    "df_bynationality.sort_values('Per Cent Arrested', ascending = False).head()"
   ]
  },
  {
   "cell_type": "code",
   "execution_count": 40,
   "metadata": {},
   "outputs": [
    {
     "data": {
      "text/plain": [
       "City\n",
       "BIRMINGHAM     5455.0\n",
       "BRISTOL         662.0\n",
       "CARDIFF        3188.0\n",
       "GLASGOW        3732.0\n",
       "LEEDS          1934.0\n",
       "LIVERPOOL      3043.0\n",
       "LONDON        44178.0\n",
       "MANCHESTER     6838.0\n",
       "NEWCASTLE      2598.0\n",
       "NOTTINGHAM     1023.0\n",
       "SHEFFIELD      3790.0\n",
       "Name: Not Arrested, dtype: float64"
      ]
     },
     "execution_count": 40,
     "metadata": {},
     "output_type": "execute_result"
    }
   ],
   "source": [
    "df_bycity['Not Arrested']"
   ]
  },
  {
   "cell_type": "code",
   "execution_count": 41,
   "metadata": {},
   "outputs": [
    {
     "data": {
      "text/plain": [
       "City\n",
       "BIRMINGHAM     2056.0\n",
       "BRISTOL         480.0\n",
       "CARDIFF        1244.0\n",
       "GLASGOW        1025.0\n",
       "LEEDS           864.0\n",
       "LIVERPOOL      1309.0\n",
       "LONDON        14160.0\n",
       "MANCHESTER     2654.0\n",
       "NEWCASTLE       893.0\n",
       "NOTTINGHAM      358.0\n",
       "SHEFFIELD       888.0\n",
       "Name: Arrested, dtype: float64"
      ]
     },
     "execution_count": 41,
     "metadata": {},
     "output_type": "execute_result"
    }
   ],
   "source": [
    "df_bycity['Arrested']"
   ]
  },
  {
   "cell_type": "code",
   "execution_count": 42,
   "metadata": {},
   "outputs": [
    {
     "data": {
      "text/plain": [
       "City\n",
       "BIRMINGHAM     7511.0\n",
       "BRISTOL        1142.0\n",
       "CARDIFF        4432.0\n",
       "GLASGOW        4757.0\n",
       "LEEDS          2798.0\n",
       "LIVERPOOL      4352.0\n",
       "LONDON        58338.0\n",
       "MANCHESTER     9492.0\n",
       "NEWCASTLE      3491.0\n",
       "NOTTINGHAM     1381.0\n",
       "SHEFFIELD      4678.0\n",
       "dtype: float64"
      ]
     },
     "execution_count": 42,
     "metadata": {},
     "output_type": "execute_result"
    }
   ],
   "source": [
    "df_bycity['Arrested'] + df_bycity['Not Arrested']"
   ]
  },
  {
   "cell_type": "markdown",
   "metadata": {},
   "source": [
    "Hmmm... the total of the Bristol values isn't 1143 anymore? Did we lose some data somewhere in the merge that means our calculation for the *Not Arrested* values is now incorrect?"
   ]
  },
  {
   "cell_type": "code",
   "execution_count": 43,
   "metadata": {},
   "outputs": [
    {
     "data": {
      "text/plain": [
       "663.0"
      ]
     },
     "execution_count": 43,
     "metadata": {},
     "output_type": "execute_result"
    }
   ],
   "source": [
    "enc_not_arr[enc_not_arr['BRISTOL'].notnull()]['BRISTOL'].sum()"
   ]
  },
  {
   "cell_type": "code",
   "execution_count": 44,
   "metadata": {
    "scrolled": true
   },
   "outputs": [
    {
     "data": {
      "text/html": [
       "<div>\n",
       "<style scoped>\n",
       "    .dataframe tbody tr th:only-of-type {\n",
       "        vertical-align: middle;\n",
       "    }\n",
       "\n",
       "    .dataframe tbody tr th {\n",
       "        vertical-align: top;\n",
       "    }\n",
       "\n",
       "    .dataframe thead th {\n",
       "        text-align: right;\n",
       "    }\n",
       "</style>\n",
       "<table border=\"1\" class=\"dataframe\">\n",
       "  <thead>\n",
       "    <tr style=\"text-align: right;\">\n",
       "      <th></th>\n",
       "      <th>Nationality</th>\n",
       "      <th>BRISTOL</th>\n",
       "    </tr>\n",
       "  </thead>\n",
       "  <tbody>\n",
       "    <tr>\n",
       "      <th>0</th>\n",
       "      <td>AFGHANISTAN</td>\n",
       "      <td>10.0</td>\n",
       "    </tr>\n",
       "    <tr>\n",
       "      <th>1</th>\n",
       "      <td>ALBANIA</td>\n",
       "      <td>10.0</td>\n",
       "    </tr>\n",
       "    <tr>\n",
       "      <th>10</th>\n",
       "      <td>BANGLADESH</td>\n",
       "      <td>60.0</td>\n",
       "    </tr>\n",
       "  </tbody>\n",
       "</table>\n",
       "</div>"
      ],
      "text/plain": [
       "    Nationality  BRISTOL\n",
       "0   AFGHANISTAN     10.0\n",
       "1       ALBANIA     10.0\n",
       "10   BANGLADESH     60.0"
      ]
     },
     "execution_count": 44,
     "metadata": {},
     "output_type": "execute_result"
    }
   ],
   "source": [
    "tmp1 = enc_not_arr[enc_not_arr['BRISTOL'].notnull()][['Nationality','BRISTOL']]\n",
    "tmp1.head(3)"
   ]
  },
  {
   "cell_type": "code",
   "execution_count": 45,
   "metadata": {},
   "outputs": [
    {
     "data": {
      "text/plain": [
       "663.0"
      ]
     },
     "execution_count": 45,
     "metadata": {},
     "output_type": "execute_result"
    }
   ],
   "source": [
    "tmp1['BRISTOL'].sum()"
   ]
  },
  {
   "cell_type": "code",
   "execution_count": 46,
   "metadata": {},
   "outputs": [
    {
     "data": {
      "text/html": [
       "<div>\n",
       "<style scoped>\n",
       "    .dataframe tbody tr th:only-of-type {\n",
       "        vertical-align: middle;\n",
       "    }\n",
       "\n",
       "    .dataframe tbody tr th {\n",
       "        vertical-align: top;\n",
       "    }\n",
       "\n",
       "    .dataframe thead th {\n",
       "        text-align: right;\n",
       "    }\n",
       "</style>\n",
       "<table border=\"1\" class=\"dataframe\">\n",
       "  <thead>\n",
       "    <tr style=\"text-align: right;\">\n",
       "      <th></th>\n",
       "      <th>Nationality</th>\n",
       "      <th>Not Arrested</th>\n",
       "    </tr>\n",
       "  </thead>\n",
       "  <tbody>\n",
       "    <tr>\n",
       "      <th>159</th>\n",
       "      <td>AFGHANISTAN</td>\n",
       "      <td>10.0</td>\n",
       "    </tr>\n",
       "    <tr>\n",
       "      <th>160</th>\n",
       "      <td>ALBANIA</td>\n",
       "      <td>10.0</td>\n",
       "    </tr>\n",
       "    <tr>\n",
       "      <th>161</th>\n",
       "      <td>ALGERIA</td>\n",
       "      <td>NaN</td>\n",
       "    </tr>\n",
       "  </tbody>\n",
       "</table>\n",
       "</div>"
      ],
      "text/plain": [
       "     Nationality  Not Arrested\n",
       "159  AFGHANISTAN          10.0\n",
       "160      ALBANIA          10.0\n",
       "161      ALGERIA           NaN"
      ]
     },
     "execution_count": 46,
     "metadata": {},
     "output_type": "execute_result"
    }
   ],
   "source": [
    "tmp2 = enc_merge_long[enc_merge_long['City']=='BRISTOL'][['Nationality','Not Arrested']]\n",
    "tmp2.head(3)"
   ]
  },
  {
   "cell_type": "code",
   "execution_count": 47,
   "metadata": {},
   "outputs": [
    {
     "data": {
      "text/html": [
       "<div>\n",
       "<style scoped>\n",
       "    .dataframe tbody tr th:only-of-type {\n",
       "        vertical-align: middle;\n",
       "    }\n",
       "\n",
       "    .dataframe tbody tr th {\n",
       "        vertical-align: top;\n",
       "    }\n",
       "\n",
       "    .dataframe thead th {\n",
       "        text-align: right;\n",
       "    }\n",
       "</style>\n",
       "<table border=\"1\" class=\"dataframe\">\n",
       "  <thead>\n",
       "    <tr style=\"text-align: right;\">\n",
       "      <th></th>\n",
       "      <th>Nationality</th>\n",
       "      <th>BRISTOL</th>\n",
       "      <th>Not Arrested</th>\n",
       "    </tr>\n",
       "  </thead>\n",
       "  <tbody>\n",
       "    <tr>\n",
       "      <th>0</th>\n",
       "      <td>AFGHANISTAN</td>\n",
       "      <td>10.0</td>\n",
       "      <td>10.0</td>\n",
       "    </tr>\n",
       "    <tr>\n",
       "      <th>1</th>\n",
       "      <td>ALBANIA</td>\n",
       "      <td>10.0</td>\n",
       "      <td>10.0</td>\n",
       "    </tr>\n",
       "    <tr>\n",
       "      <th>2</th>\n",
       "      <td>BANGLADESH</td>\n",
       "      <td>60.0</td>\n",
       "      <td>60.0</td>\n",
       "    </tr>\n",
       "  </tbody>\n",
       "</table>\n",
       "</div>"
      ],
      "text/plain": [
       "   Nationality  BRISTOL  Not Arrested\n",
       "0  AFGHANISTAN     10.0          10.0\n",
       "1      ALBANIA     10.0          10.0\n",
       "2   BANGLADESH     60.0          60.0"
      ]
     },
     "execution_count": 47,
     "metadata": {},
     "output_type": "execute_result"
    }
   ],
   "source": [
    "tmp3 = tmp1.merge(tmp2, on='Nationality', how='outer')\n",
    "tmp3.head(3)"
   ]
  },
  {
   "cell_type": "code",
   "execution_count": 48,
   "metadata": {},
   "outputs": [
    {
     "data": {
      "text/plain": [
       "Nationality     AFGHANISTANALBANIABANGLADESHBRAZILBRITISH CITI...\n",
       "BRISTOL                                                       663\n",
       "Not Arrested                                                  662\n",
       "dtype: object"
      ]
     },
     "execution_count": 48,
     "metadata": {},
     "output_type": "execute_result"
    }
   ],
   "source": [
    "tmp3.sum()"
   ]
  },
  {
   "cell_type": "code",
   "execution_count": 49,
   "metadata": {},
   "outputs": [
    {
     "data": {
      "text/html": [
       "<div>\n",
       "<style scoped>\n",
       "    .dataframe tbody tr th:only-of-type {\n",
       "        vertical-align: middle;\n",
       "    }\n",
       "\n",
       "    .dataframe tbody tr th {\n",
       "        vertical-align: top;\n",
       "    }\n",
       "\n",
       "    .dataframe thead th {\n",
       "        text-align: right;\n",
       "    }\n",
       "</style>\n",
       "<table border=\"1\" class=\"dataframe\">\n",
       "  <thead>\n",
       "    <tr style=\"text-align: right;\">\n",
       "      <th></th>\n",
       "      <th>Nationality</th>\n",
       "      <th>BRISTOL</th>\n",
       "      <th>Not Arrested</th>\n",
       "    </tr>\n",
       "  </thead>\n",
       "  <tbody>\n",
       "    <tr>\n",
       "      <th>15</th>\n",
       "      <td>FIJI</td>\n",
       "      <td>1.0</td>\n",
       "      <td>NaN</td>\n",
       "    </tr>\n",
       "    <tr>\n",
       "      <th>62</th>\n",
       "      <td>ALGERIA</td>\n",
       "      <td>NaN</td>\n",
       "      <td>NaN</td>\n",
       "    </tr>\n",
       "    <tr>\n",
       "      <th>63</th>\n",
       "      <td>ANGOLA</td>\n",
       "      <td>NaN</td>\n",
       "      <td>NaN</td>\n",
       "    </tr>\n",
       "    <tr>\n",
       "      <th>64</th>\n",
       "      <td>ARGENTINA</td>\n",
       "      <td>NaN</td>\n",
       "      <td>NaN</td>\n",
       "    </tr>\n",
       "    <tr>\n",
       "      <th>65</th>\n",
       "      <td>ARMENIA</td>\n",
       "      <td>NaN</td>\n",
       "      <td>NaN</td>\n",
       "    </tr>\n",
       "  </tbody>\n",
       "</table>\n",
       "</div>"
      ],
      "text/plain": [
       "   Nationality  BRISTOL  Not Arrested\n",
       "15        FIJI      1.0           NaN\n",
       "62     ALGERIA      NaN           NaN\n",
       "63      ANGOLA      NaN           NaN\n",
       "64   ARGENTINA      NaN           NaN\n",
       "65     ARMENIA      NaN           NaN"
      ]
     },
     "execution_count": 49,
     "metadata": {},
     "output_type": "execute_result"
    }
   ],
   "source": [
    "tmp3[tmp3['BRISTOL']!=tmp3['Not Arrested']].head()"
   ]
  },
  {
   "cell_type": "markdown",
   "metadata": {},
   "source": [
    "So it sees that we have data for FIJI in one table but not the other? Did the merge go wrong somewhere?\n",
    "\n",
    "Checking back, it seems there was an error. By default, the *pandas* merge does an \"inner join\", only matching tables where the common key column values match. However, because the *Nationality* columns contain different elements, we need an *outer* join that includes all rows from each table, joining them where it can and inserting null values where a join can't be made.\n",
    "\n",
    "So need to redo the merge with the cleaned data, __remembering to use an `outer` join so we get contributions from all the rows from both tables.__\n",
    "\n",
    "We can do this by going up to the earlier cell, correcting the broken line of code, and then rerunning the notebook cells from there.\n",
    "\n",
    "Note that a more robust approach would be to restart the notebook kernel and then rerun the notebook cells from scratch. (Restarting the kernel ensures the notebook is cleared of all values and that we don't run any instructions on any previously created or modified values.)"
   ]
  },
  {
   "cell_type": "markdown",
   "metadata": {},
   "source": [
    "------\n",
    "\n",
    "__In the static demo notebook, the values from here on down may be incorrect because of the incorrect merge.__\n",
    "\n",
    "__Correcting the merge and rerunning the notebook will fix the errors.__\n",
    "\n",
    "__*You can run the notebook interactively using [mybinder / binderhub](https://mybinder.org/) from the repository homepage.*__\n",
    "\n",
    "------"
   ]
  },
  {
   "cell_type": "markdown",
   "metadata": {},
   "source": [
    "## Some Simple Charting"
   ]
  },
  {
   "cell_type": "code",
   "execution_count": 50,
   "metadata": {},
   "outputs": [
    {
     "data": {
      "image/png": "[encoded data removed]",
      "text/plain": [
       "<matplotlib.figure.Figure at 0x115b8b9e8>"
      ]
     },
     "metadata": {},
     "output_type": "display_data"
    }
   ],
   "source": [
    "import matplotlib.pyplot as plt\n",
    "%matplotlib inline\n",
    "\n",
    "df_bycity.notnull()\n",
    "\n",
    "x=df_bycity['Not Arrested']\n",
    "y=df_bycity['Arrested']\n",
    "\n",
    "\n",
    "fig, ax = plt.subplots()\n",
    "ax.scatter(x, y)\n",
    "\n",
    "ax.set_yscale('log')\n",
    "ax.set_xscale('log')\n",
    "\n",
    "ax.set_xlabel('Not Arrested')\n",
    "ax.set_ylabel('Arrested')\n",
    "\n",
    "for i, txt in enumerate(df_bycity.index):\n",
    "    ax.annotate(txt, (x[i],y[i]))"
   ]
  },
  {
   "cell_type": "markdown",
   "metadata": {},
   "source": [
    "Looks like Bristol is off the trend line?"
   ]
  },
  {
   "cell_type": "code",
   "execution_count": 51,
   "metadata": {
    "scrolled": false
   },
   "outputs": [
    {
     "data": {
      "image/png": "[encoded data removed]",
      "text/plain": [
       "<matplotlib.figure.Figure at 0x116f9b630>"
      ]
     },
     "metadata": {},
     "output_type": "display_data"
    }
   ],
   "source": [
    "x=df_bynationality['Not Arrested']\n",
    "y=df_bynationality['Arrested']\n",
    "\n",
    "fig, ax = plt.subplots()\n",
    "ax.scatter(x, y)\n",
    "\n",
    "ax.set_yscale('log')\n",
    "ax.set_xscale('log')\n",
    "\n",
    "ax.set_xlabel('Not Arrested')\n",
    "ax.set_ylabel('Arrested')\n",
    "\n",
    "fig.set_size_inches(18.5, 10.5)\n",
    "\n",
    "for i, txt in enumerate(df_bynationality.index):\n",
    "    ax.annotate(txt, (x[i],y[i]))"
   ]
  },
  {
   "cell_type": "markdown",
   "metadata": {},
   "source": [
    "## Saving the Dataframe as a CSV file\n",
    "\n",
    "We can straightforwardly save the long form dataframe data to a CSV file."
   ]
  },
  {
   "cell_type": "code",
   "execution_count": 52,
   "metadata": {},
   "outputs": [],
   "source": [
    "mycsvfile = '../data/immigrationdata.csv'\n",
    "\n",
    "#When saving the CSV data, don't save the dataframe index values\n",
    "enc_merge_long.to_csv( mycsvfile, index=False)"
   ]
  },
  {
   "cell_type": "code",
   "execution_count": 53,
   "metadata": {},
   "outputs": [],
   "source": [
    "#Preview the saved CSV data\n",
    "#!head {mycsvfile}"
   ]
  },
  {
   "cell_type": "markdown",
   "metadata": {},
   "source": [
    "## Create a Database from the pandas Dataframe\n",
    "\n",
    "We can save a *pandas* dataframe to a SQLite3 database that allows it to be published using a service such as [datasette](https://github.com/simonw/datasette)."
   ]
  },
  {
   "cell_type": "code",
   "execution_count": 54,
   "metadata": {},
   "outputs": [],
   "source": [
    "import sqlite3"
   ]
  },
  {
   "cell_type": "code",
   "execution_count": 55,
   "metadata": {},
   "outputs": [],
   "source": [
    "dbname = '../db/immigration.db'"
   ]
  },
  {
   "cell_type": "code",
   "execution_count": 56,
   "metadata": {},
   "outputs": [],
   "source": [
    "#Make sure we're working with a clean db\n",
    "!rm {dbname}"
   ]
  },
  {
   "cell_type": "code",
   "execution_count": 57,
   "metadata": {},
   "outputs": [],
   "source": [
    "conn = sqlite3.connect(dbname)"
   ]
  },
  {
   "cell_type": "code",
   "execution_count": 58,
   "metadata": {},
   "outputs": [
    {
     "name": "stderr",
     "output_type": "stream",
     "text": [
      "/Library/Frameworks/Python.framework/Versions/3.6/lib/python3.6/site-packages/pandas/core/generic.py:1534: UserWarning: The spaces in these column names will not be changed. In pandas versions < 0.14, spaces were converted to underscores.\n",
      "  chunksize=chunksize, dtype=dtype)\n"
     ]
    }
   ],
   "source": [
    "table = 'immigrationData'\n",
    "\n",
    "enc_merge_long.to_sql(table, conn, index=False)"
   ]
  },
  {
   "cell_type": "markdown",
   "metadata": {},
   "source": [
    "Now we can run SQL queries on the data."
   ]
  },
  {
   "cell_type": "code",
   "execution_count": 59,
   "metadata": {},
   "outputs": [
    {
     "data": {
      "text/html": [
       "<div>\n",
       "<style scoped>\n",
       "    .dataframe tbody tr th:only-of-type {\n",
       "        vertical-align: middle;\n",
       "    }\n",
       "\n",
       "    .dataframe tbody tr th {\n",
       "        vertical-align: top;\n",
       "    }\n",
       "\n",
       "    .dataframe thead th {\n",
       "        text-align: right;\n",
       "    }\n",
       "</style>\n",
       "<table border=\"1\" class=\"dataframe\">\n",
       "  <thead>\n",
       "    <tr style=\"text-align: right;\">\n",
       "      <th></th>\n",
       "      <th>Nationality</th>\n",
       "      <th>City</th>\n",
       "      <th>Arrested</th>\n",
       "      <th>Not Arrested</th>\n",
       "      <th>Per Cent Arrested</th>\n",
       "    </tr>\n",
       "  </thead>\n",
       "  <tbody>\n",
       "    <tr>\n",
       "      <th>0</th>\n",
       "      <td>AFGHANISTAN</td>\n",
       "      <td>BIRMINGHAM</td>\n",
       "      <td>189.0</td>\n",
       "      <td>222.0</td>\n",
       "      <td>45.985401</td>\n",
       "    </tr>\n",
       "    <tr>\n",
       "      <th>1</th>\n",
       "      <td>ALBANIA</td>\n",
       "      <td>BIRMINGHAM</td>\n",
       "      <td>40.0</td>\n",
       "      <td>27.0</td>\n",
       "      <td>59.701493</td>\n",
       "    </tr>\n",
       "    <tr>\n",
       "      <th>2</th>\n",
       "      <td>ALGERIA</td>\n",
       "      <td>BIRMINGHAM</td>\n",
       "      <td>7.0</td>\n",
       "      <td>10.0</td>\n",
       "      <td>41.176471</td>\n",
       "    </tr>\n",
       "  </tbody>\n",
       "</table>\n",
       "</div>"
      ],
      "text/plain": [
       "   Nationality        City  Arrested  Not Arrested  Per Cent Arrested\n",
       "0  AFGHANISTAN  BIRMINGHAM     189.0         222.0          45.985401\n",
       "1      ALBANIA  BIRMINGHAM      40.0          27.0          59.701493\n",
       "2      ALGERIA  BIRMINGHAM       7.0          10.0          41.176471"
      ]
     },
     "execution_count": 59,
     "metadata": {},
     "output_type": "execute_result"
    }
   ],
   "source": [
    "q = 'SELECT * FROM {} LIMIT 3'.format(table)\n",
    "\n",
    "#Explicitly using suggested value of \"immigrationData\" for the table name\n",
    "#q = 'SELECT * FROM immigrationData LIMIT 3'\n",
    "\n",
    "pd.read_sql(q, conn)"
   ]
  },
  {
   "cell_type": "code",
   "execution_count": 60,
   "metadata": {},
   "outputs": [
    {
     "data": {
      "text/html": [
       "<div>\n",
       "<style scoped>\n",
       "    .dataframe tbody tr th:only-of-type {\n",
       "        vertical-align: middle;\n",
       "    }\n",
       "\n",
       "    .dataframe tbody tr th {\n",
       "        vertical-align: top;\n",
       "    }\n",
       "\n",
       "    .dataframe thead th {\n",
       "        text-align: right;\n",
       "    }\n",
       "</style>\n",
       "<table border=\"1\" class=\"dataframe\">\n",
       "  <thead>\n",
       "    <tr style=\"text-align: right;\">\n",
       "      <th></th>\n",
       "      <th>City</th>\n",
       "      <th>Total Arrested</th>\n",
       "      <th>Total Not Arrested</th>\n",
       "      <th>Total</th>\n",
       "    </tr>\n",
       "  </thead>\n",
       "  <tbody>\n",
       "    <tr>\n",
       "      <th>0</th>\n",
       "      <td>BIRMINGHAM</td>\n",
       "      <td>2056.0</td>\n",
       "      <td>5455.0</td>\n",
       "      <td>7511.0</td>\n",
       "    </tr>\n",
       "    <tr>\n",
       "      <th>1</th>\n",
       "      <td>BRISTOL</td>\n",
       "      <td>480.0</td>\n",
       "      <td>662.0</td>\n",
       "      <td>1142.0</td>\n",
       "    </tr>\n",
       "    <tr>\n",
       "      <th>2</th>\n",
       "      <td>CARDIFF</td>\n",
       "      <td>1244.0</td>\n",
       "      <td>3188.0</td>\n",
       "      <td>4432.0</td>\n",
       "    </tr>\n",
       "    <tr>\n",
       "      <th>3</th>\n",
       "      <td>GLASGOW</td>\n",
       "      <td>1025.0</td>\n",
       "      <td>3732.0</td>\n",
       "      <td>4757.0</td>\n",
       "    </tr>\n",
       "    <tr>\n",
       "      <th>4</th>\n",
       "      <td>LEEDS</td>\n",
       "      <td>864.0</td>\n",
       "      <td>1934.0</td>\n",
       "      <td>2798.0</td>\n",
       "    </tr>\n",
       "    <tr>\n",
       "      <th>5</th>\n",
       "      <td>LIVERPOOL</td>\n",
       "      <td>1309.0</td>\n",
       "      <td>3043.0</td>\n",
       "      <td>4352.0</td>\n",
       "    </tr>\n",
       "    <tr>\n",
       "      <th>6</th>\n",
       "      <td>LONDON</td>\n",
       "      <td>14160.0</td>\n",
       "      <td>44178.0</td>\n",
       "      <td>58338.0</td>\n",
       "    </tr>\n",
       "    <tr>\n",
       "      <th>7</th>\n",
       "      <td>MANCHESTER</td>\n",
       "      <td>2654.0</td>\n",
       "      <td>6838.0</td>\n",
       "      <td>9492.0</td>\n",
       "    </tr>\n",
       "    <tr>\n",
       "      <th>8</th>\n",
       "      <td>NEWCASTLE</td>\n",
       "      <td>893.0</td>\n",
       "      <td>2598.0</td>\n",
       "      <td>3491.0</td>\n",
       "    </tr>\n",
       "    <tr>\n",
       "      <th>9</th>\n",
       "      <td>NOTTINGHAM</td>\n",
       "      <td>358.0</td>\n",
       "      <td>1023.0</td>\n",
       "      <td>1381.0</td>\n",
       "    </tr>\n",
       "    <tr>\n",
       "      <th>10</th>\n",
       "      <td>SHEFFIELD</td>\n",
       "      <td>888.0</td>\n",
       "      <td>3790.0</td>\n",
       "      <td>4678.0</td>\n",
       "    </tr>\n",
       "  </tbody>\n",
       "</table>\n",
       "</div>"
      ],
      "text/plain": [
       "          City  Total Arrested  Total Not Arrested    Total\n",
       "0   BIRMINGHAM          2056.0              5455.0   7511.0\n",
       "1      BRISTOL           480.0               662.0   1142.0\n",
       "2      CARDIFF          1244.0              3188.0   4432.0\n",
       "3      GLASGOW          1025.0              3732.0   4757.0\n",
       "4        LEEDS           864.0              1934.0   2798.0\n",
       "5    LIVERPOOL          1309.0              3043.0   4352.0\n",
       "6       LONDON         14160.0             44178.0  58338.0\n",
       "7   MANCHESTER          2654.0              6838.0   9492.0\n",
       "8    NEWCASTLE           893.0              2598.0   3491.0\n",
       "9   NOTTINGHAM           358.0              1023.0   1381.0\n",
       "10   SHEFFIELD           888.0              3790.0   4678.0"
      ]
     },
     "execution_count": 60,
     "metadata": {},
     "output_type": "execute_result"
    }
   ],
   "source": [
    "q = '''\n",
    "SELECT City, SUM(Arrested) AS \"Total Arrested\",\n",
    "        SUM(\"Not Arrested\") AS \"Total Not Arrested\", \n",
    "        SUM(Arrested) + SUM(\"Not Arrested\") AS \"Total\"\n",
    "        FROM {} GROUP BY City\n",
    "'''.format(table)\n",
    "pd.read_sql(q, conn)"
   ]
  },
  {
   "cell_type": "code",
   "execution_count": null,
   "metadata": {},
   "outputs": [],
   "source": []
  }
 ],
 "metadata": {
  "kernelspec": {
   "display_name": "Python 3",
   "language": "python",
   "name": "python3"
  },
  "language_info": {
   "codemirror_mode": {
    "name": "ipython",
    "version": 3
   },
   "file_extension": ".py",
   "mimetype": "text/x-python",
   "name": "python",
   "nbconvert_exporter": "python",
   "pygments_lexer": "ipython3",
   "version": "3.6.4"
  }
 },
 "nbformat": 4,
 "nbformat_minor": 2
}
